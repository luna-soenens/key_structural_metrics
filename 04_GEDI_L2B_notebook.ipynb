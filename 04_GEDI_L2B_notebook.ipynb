{
  "cells": [
    {
      "cell_type": "markdown",
      "metadata": {
        "id": "view-in-github",
        "colab_type": "text"
      },
      "source": [
        "<a href=\"https://colab.research.google.com/github/luna-soenens/key_structural_metrics/blob/main/04_GEDI_L2B_notebook.ipynb\" target=\"_parent\"><img src=\"https://colab.research.google.com/assets/colab-badge.svg\" alt=\"Open In Colab\"/></a>"
      ]
    },
    {
      "cell_type": "markdown",
      "metadata": {
        "id": "GhjPPEHjTah3"
      },
      "source": [
        "# Exploring GEDI L2B Data: Canopy Cover and Vertical Profile Metrics\n",
        "\n",
        "## 🌿 Understanding Forest Structure with GEDI  \n",
        "\n",
        "The **Global Ecosystem Dynamics Investigation (GEDI)** mission provides high-resolution 3D measurements of forests worldwide. By using spaceborne LiDAR, GEDI helps scientists **study tree height, canopy cover, and biomass**, improving our understanding of carbon storage and ecosystem dynamics.  \n",
        "\n",
        "This tutorial will guide you through analyzing **GEDI L2B Version 2** data using Python. However, **you do not need to learn or write Python code**—just follow the steps, run the provided code cells, and focus on interpreting the data.  \n",
        "\n",
        "---\n",
        "\n",
        "## 🌍 **Real-World Example: QPRP & QForestLab**  \n",
        "\n",
        "This tutorial is based on research from **QForestLab** (Ghent University), where we study forest structure using laser scanning. The **QPRP (Queensland Permanent Rainforest Plots) project** is a long-term ecological monitoring network in **North-Eastern Queensland, Australia**, covering diverse rainforest types along **rainfall and altitudinal gradients**.  \n",
        "\n",
        "In this tutorial, you will:\n",
        "- Explore **tree canopy height, cover, and plant area metrics** over the QPRP network.\n",
        "- Learn how GEDI measures forest structure using LiDAR.\n",
        "- Subset, visualize, and export GEDI data for further analysis.\n",
        "\n",
        "---\n",
        "\n",
        "## 🔍 **What Data Are We Using?**  \n",
        "\n",
        "We will work with **GEDI L2B Canopy Cover and Vertical Profile Metrics Data** ([GEDI02_B.002](https://doi.org/10.5067/GEDI/GEDI02_B.002)), which provides:  \n",
        "✔ **Tree height** (RH100)  \n",
        "✔ **Canopy cover** & **Plant Area Index (PAI)**  \n",
        "✔ **Foliage Height Diversity (FHD)**  \n",
        "✔ **Elevation and geolocation data**  \n",
        "✔ **Laser return quality flags**  \n",
        "\n",
        "---\n",
        "\n",
        "## 📌 Steps in This Tutorial  \n",
        "\n",
        "### 1️⃣ Getting Started  \n",
        "- **1.1 Install Packages**  \n",
        "- **1.2 Import Packages**\n",
        "- **1.3 Set Up the Working Environment and Retrieve Files**  \n",
        "- **1.4 Download GEDI Data**\n",
        "\n",
        "### 2️⃣ Import and Interpret Data  \n",
        "- **2.1 Open a GEDI HDF5 File and Read File Metadata**\n",
        "  - GEDI L2B Filename Structure  \n",
        "  - Opening and Exploring the HDF5 File  \n",
        "- **2.2 Read SDS Metadata and Subset by Beam**  \n",
        "  - Identifying Full Power vs. Coverage Beams  \n",
        "\n",
        "### 3️⃣ Visualize a GEDI Orbit  \n",
        "- **3.1 Subset by Layer and Create a GeoDataFrame**  \n",
        "  - Creating a Geometry Column  \n",
        "- **3.2 Visualize a GeoDataFrame**  \n",
        "\n",
        "### 4️⃣ Work with GEDI L2B Data  \n",
        "- **4.1 Import and Extract Specific Shots**  \n",
        "- **4.2 Visualize PAVD**\n",
        "  - ❓ Questions to Think About  \n",
        "\n",
        "### 5️⃣ Work with GEDI L2B Beam Transects  \n",
        "- ❓ Questions to Think About  \n",
        "- **5.1 Quality Filtering**  \n",
        "- **5.2 Plot Beam Transects**  \n",
        "- **5.3 Subset Beam Transects**  \n",
        "\n",
        "### 6️⃣ Plot Profile Transects  \n",
        "- **6.1 Plot PAVD Transects**  \n",
        "- ❓ Questions to Think About  \n",
        "\n",
        "### 7️⃣ Spatial Visualization  \n",
        "- **7.1 Import, Subset, and Quality Filter All Beams**  \n",
        "- **7.2 Spatial Subsetting**  \n",
        "- **7.3 Visualize All Beams: Canopy Height, Elevation, and PAI**  \n",
        "- ❓ Questions to Think About  \n",
        "\n",
        "\n",
        "This document is based on notebooks provided by NASA LP DAAC.  \n",
        "\n",
        "For any inquiries, refer to the **Contact Info** section.  \n",
        "\n",
        "\n",
        "\n",
        "---\n",
        "\n",
        "## 🛠️ **How to Run This Tutorial**  \n",
        "\n",
        "This tutorial is designed to run in **Google Colab**, so you don't need to install Python on your computer.  \n",
        "Simply open the notebook in Colab and follow the step-by-step explanations.  \n",
        "\n",
        "📂 **All necessary files and instructions can be found in our GitHub repository:**  \n",
        "🔗 [QForestLab GEDI Course](https://github.com/gdeslo/GEDI_course.git)  \n",
        "\n",
        "---\n",
        "\n",
        "> ⚠️ **Note:** This tutorial is designed specifically for **GEDI L2B Version 2** data and may not be compatible with other GEDI versions.  \n",
        "\n",
        "Let's get started! 🚀  \n"
      ]
    },
    {
      "cell_type": "markdown",
      "metadata": {
        "id": "CvaqqwXxOEzT"
      },
      "source": [
        "# 1. Get Started <a id=\"getstarted\"></a>"
      ]
    },
    {
      "cell_type": "markdown",
      "source": [
        "## 1.1 Install Packages 📦 <a id=\"1.1\"></a>  \n",
        "Before working with GEDI data, we need to install a few required Python packages.  \n",
        "\n",
        "🔹 **If you're using Google Colab**, the necessary libraries should already be available, but you need to install additional ones as specified below.  \n",
        "\n",
        "Run the following cell to install the required packages:\n"
      ],
      "metadata": {
        "id": "ftl1PseHiUZm"
      }
    },
    {
      "cell_type": "code",
      "execution_count": null,
      "metadata": {
        "id": "3-Hsi4rHOusx",
        "collapsed": true
      },
      "outputs": [],
      "source": [
        "!pip install geospatial geoviews\n",
        "!pip install \"ipywidgets>=7,<8\""
      ]
    },
    {
      "cell_type": "markdown",
      "metadata": {
        "id": "2AkqRiE_Tah4"
      },
      "source": [
        "## 1.2 Import Packages 📥 <a id=\"1.2\"></a>\n",
        "\n",
        "Now that the required packages are installed, let's import them.\n",
        "\n",
        "**What the needed packages do:**  \n",
        "- `os` → Manages file paths and directories  \n",
        "- `h5py` → Reads **GEDI HDF5** data files  \n",
        "- `numpy` → Handles numerical calculations  \n",
        "- `pandas` → Works with tabular data  \n",
        "- `geopandas` → Handles **spatial data** (e.g., GEDI footprints)  \n",
        "- `shapely` → Processes geometric objects (points, polygons)  \n",
        "- `geoviews` & `holoviews` → Creates **interactive maps and visualizations**  \n",
        "- `warnings` → Suppresses unnecessary warnings  \n",
        "\n",
        "\n",
        "---\n",
        "\n",
        "\n",
        "Run the following cell to import the required packages:\n"
      ]
    },
    {
      "cell_type": "code",
      "execution_count": null,
      "metadata": {
        "id": "RwHk0KcTTah4"
      },
      "outputs": [],
      "source": [
        "import os\n",
        "import h5py\n",
        "import numpy as np\n",
        "import pandas as pd\n",
        "import geopandas as gp\n",
        "from shapely.geometry import Point\n",
        "import geoviews as gv\n",
        "from geoviews import opts, tile_sources as gvts\n",
        "import holoviews as hv\n",
        "gv.extension('bokeh', 'matplotlib')\n",
        "import shapely\n",
        "import warnings\n",
        "from shapely.errors import ShapelyDeprecationWarning\n",
        "warnings.filterwarnings(\"ignore\", category=ShapelyDeprecationWarning)\n",
        "\n",
        "os.chdir('../../')"
      ]
    },
    {
      "cell_type": "markdown",
      "metadata": {
        "id": "DS3sLrRCTah5"
      },
      "source": [
        "## 1.3 Set Up the Working Environment and Retrieve Files 📂 <a id=\"1.3\"></a>\n",
        "\n",
        "Since **Google Colab** runs in a cloud environment, we need to:  \n",
        "1. **Mount Google Drive** to access stored files.  \n",
        "2. **Set the working directory** to the correct folder.  \n",
        "\n",
        "Ensure that the repository 'DATA' is stored in your Google Drive under:  \n",
        "📂 `My Drive/Colab Notebooks/GEDI_course/`  \n",
        "\n",
        "Detailed setup instructions can be found in **Colab.md** and **README.md** within the repository.  \n",
        "\n",
        "Run the following cells to set up the environment:"
      ]
    },
    {
      "cell_type": "code",
      "execution_count": 3,
      "metadata": {
        "id": "NaWeJMXpSc72",
        "collapsed": true,
        "outputId": "ef0b4c41-a606-4066-e6f4-0069baffa33d",
        "colab": {
          "base_uri": "https://localhost:8080/",
          "height": 304
        }
      },
      "outputs": [
        {
          "ename": "ValueError",
          "evalue": "mount failed",
          "output_type": "error",
          "traceback": [
            "\u001b[0;31m---------------------------------------------------------------------------\u001b[0m",
            "\u001b[0;31mValueError\u001b[0m                                Traceback (most recent call last)",
            "\u001b[0;32m<ipython-input-3-d5df0069828e>\u001b[0m in \u001b[0;36m<cell line: 0>\u001b[0;34m()\u001b[0m\n\u001b[1;32m      1\u001b[0m \u001b[0;32mfrom\u001b[0m \u001b[0mgoogle\u001b[0m\u001b[0;34m.\u001b[0m\u001b[0mcolab\u001b[0m \u001b[0;32mimport\u001b[0m \u001b[0mdrive\u001b[0m\u001b[0;34m\u001b[0m\u001b[0;34m\u001b[0m\u001b[0m\n\u001b[0;32m----> 2\u001b[0;31m \u001b[0mdrive\u001b[0m\u001b[0;34m.\u001b[0m\u001b[0mmount\u001b[0m\u001b[0;34m(\u001b[0m\u001b[0;34m'/content/drive'\u001b[0m\u001b[0;34m)\u001b[0m\u001b[0;34m\u001b[0m\u001b[0;34m\u001b[0m\u001b[0m\n\u001b[0m",
            "\u001b[0;32m/usr/local/lib/python3.11/dist-packages/google/colab/drive.py\u001b[0m in \u001b[0;36mmount\u001b[0;34m(mountpoint, force_remount, timeout_ms, readonly)\u001b[0m\n\u001b[1;32m     98\u001b[0m \u001b[0;32mdef\u001b[0m \u001b[0mmount\u001b[0m\u001b[0;34m(\u001b[0m\u001b[0mmountpoint\u001b[0m\u001b[0;34m,\u001b[0m \u001b[0mforce_remount\u001b[0m\u001b[0;34m=\u001b[0m\u001b[0;32mFalse\u001b[0m\u001b[0;34m,\u001b[0m \u001b[0mtimeout_ms\u001b[0m\u001b[0;34m=\u001b[0m\u001b[0;36m120000\u001b[0m\u001b[0;34m,\u001b[0m \u001b[0mreadonly\u001b[0m\u001b[0;34m=\u001b[0m\u001b[0;32mFalse\u001b[0m\u001b[0;34m)\u001b[0m\u001b[0;34m:\u001b[0m\u001b[0;34m\u001b[0m\u001b[0;34m\u001b[0m\u001b[0m\n\u001b[1;32m     99\u001b[0m   \u001b[0;34m\"\"\"Mount your Google Drive at the specified mountpoint path.\"\"\"\u001b[0m\u001b[0;34m\u001b[0m\u001b[0;34m\u001b[0m\u001b[0m\n\u001b[0;32m--> 100\u001b[0;31m   return _mount(\n\u001b[0m\u001b[1;32m    101\u001b[0m       \u001b[0mmountpoint\u001b[0m\u001b[0;34m,\u001b[0m\u001b[0;34m\u001b[0m\u001b[0;34m\u001b[0m\u001b[0m\n\u001b[1;32m    102\u001b[0m       \u001b[0mforce_remount\u001b[0m\u001b[0;34m=\u001b[0m\u001b[0mforce_remount\u001b[0m\u001b[0;34m,\u001b[0m\u001b[0;34m\u001b[0m\u001b[0;34m\u001b[0m\u001b[0m\n",
            "\u001b[0;32m/usr/local/lib/python3.11/dist-packages/google/colab/drive.py\u001b[0m in \u001b[0;36m_mount\u001b[0;34m(mountpoint, force_remount, timeout_ms, ephemeral, readonly)\u001b[0m\n\u001b[1;32m    275\u001b[0m             \u001b[0;34m'https://research.google.com/colaboratory/faq.html#drive-timeout'\u001b[0m\u001b[0;34m\u001b[0m\u001b[0;34m\u001b[0m\u001b[0m\n\u001b[1;32m    276\u001b[0m         )\n\u001b[0;32m--> 277\u001b[0;31m       \u001b[0;32mraise\u001b[0m \u001b[0mValueError\u001b[0m\u001b[0;34m(\u001b[0m\u001b[0;34m'mount failed'\u001b[0m \u001b[0;34m+\u001b[0m \u001b[0mextra_reason\u001b[0m\u001b[0;34m)\u001b[0m\u001b[0;34m\u001b[0m\u001b[0;34m\u001b[0m\u001b[0m\n\u001b[0m\u001b[1;32m    278\u001b[0m     \u001b[0;32melif\u001b[0m \u001b[0mcase\u001b[0m \u001b[0;34m==\u001b[0m \u001b[0;36m4\u001b[0m\u001b[0;34m:\u001b[0m\u001b[0;34m\u001b[0m\u001b[0;34m\u001b[0m\u001b[0m\n\u001b[1;32m    279\u001b[0m       \u001b[0;31m# Terminate the DriveFS binary before killing bash.\u001b[0m\u001b[0;34m\u001b[0m\u001b[0;34m\u001b[0m\u001b[0m\n",
            "\u001b[0;31mValueError\u001b[0m: mount failed"
          ]
        }
      ],
      "source": [
        "from google.colab import drive\n",
        "drive.mount('/content/drive')"
      ]
    },
    {
      "cell_type": "markdown",
      "source": [
        "Authorize access to your Google Drive to inable working with the provided **DATA** folder."
      ],
      "metadata": {
        "id": "VA3v-JCMeytD"
      }
    },
    {
      "cell_type": "code",
      "source": [
        "# Change the directory to your specific working folder\n",
        "new_dir = os.path.join('/content/drive/MyDrive', 'Colab Notebooks', 'GEDI_course')\n",
        "os.chdir(new_dir)\n",
        "# Verify the current directory\n",
        "print(os.getcwd())"
      ],
      "metadata": {
        "id": "pjcYapDOMzpo"
      },
      "execution_count": null,
      "outputs": []
    },
    {
      "cell_type": "markdown",
      "metadata": {
        "id": "lHdPYeOTTah6"
      },
      "source": [
        "## 1.4 Download GEDI Data 🌍 <a id=\"1.4\"></a>\n",
        "\n",
        "To run this tutorial, you need to **download a GEDI L2B file** from NASA’s LP DAAC archive.  \n",
        "We will use the **earthaccess** package to handle authentication and data retrieval.\n",
        "\n",
        "### Where to Store the File?\n",
        "- The GEDI file will be downloaded into a **`DATA/` directory** inside your Google Drive.  \n",
        "- This directory was set up in the Colab environment configuration.  \n",
        "- For detailed file organization, check **Colab.md** and **README.md**.\n",
        "\n",
        "### How to Authenticate?\n",
        "When you run the first cell, **Google Colab will prompt you for your Earthdata Search credentials** (username and password).  \n",
        "If you followed the **Earthdata.md** guide in the repository, you should already have an account.\n",
        "\n",
        "\n",
        "Run the following cells to authenticate and download the file:\n",
        "\n"
      ]
    },
    {
      "cell_type": "code",
      "execution_count": null,
      "metadata": {
        "id": "pK7uzfppTah6"
      },
      "outputs": [],
      "source": [
        "# !pip install earthaccess==0.8.2\n",
        "import earthaccess\n",
        "earthaccess.login(persist=True)\n",
        "results = ['https://data.lpdaac.earthdatacloud.nasa.gov/lp-prod-protected/GEDI02_B.002/GEDI02_B_2022344195102_O22626_01_T06507_02_003_01_V002/GEDI02_B_2022344195102_O22626_01_T06507_02_003_01_V002.h5']\n",
        "# download\n",
        "downloaded_files = earthaccess.download(\n",
        "    results,\n",
        "    local_path='DATA/',\n",
        ")"
      ]
    },
    {
      "cell_type": "code",
      "execution_count": null,
      "metadata": {
        "id": "2o-J5zDvTah6"
      },
      "outputs": [],
      "source": [
        "gediFiles = [g for g in os.listdir('DATA/') if g.startswith('GEDI02_B') and g.endswith('.h5')]  # List all GEDI L2B .h5 files in inDir\n",
        "gediFiles"
      ]
    },
    {
      "cell_type": "markdown",
      "metadata": {
        "id": "zak52OkvTah6"
      },
      "source": [
        "# 2. Import and Interpret Data <a id=\"importinterpret\"></a>\n",
        "\n",
        "\n"
      ]
    },
    {
      "cell_type": "markdown",
      "source": [
        "## 2.1 Open a GEDI HDF5 File and Read File Metadata 📂 <a id=\"2.1\"></a>\n",
        "\n",
        "We will now open a **GEDI L2B HDF5 file** and explore its contents.  \n",
        "\n",
        "The **h5py** package allows us to efficiently handle large numerical datasets stored in HDF5 format, making it ideal for working with GEDI data.\n",
        "\n",
        "---"
      ],
      "metadata": {
        "id": "oWi6njvAh9iA"
      }
    },
    {
      "cell_type": "code",
      "execution_count": null,
      "metadata": {
        "id": "X1bruP9xTah6"
      },
      "outputs": [],
      "source": [
        "L2B = f'DATA/{gediFiles[0]}'\n",
        "L2B"
      ]
    },
    {
      "cell_type": "markdown",
      "metadata": {
        "id": "KJn7TwvzTah6"
      },
      "source": [
        "### GEDI L2B Filename Structure  \n",
        "GEDI Version 2 files follow a standard naming convention:\n",
        "\n",
        "| Component | Description |\n",
        "|-----------|------------|\n",
        "| **GEDI02_B** | Product Short Name |\n",
        "| **2019170155833** | Julian Date and Time of Acquisition (YYYYDDDHHMMSS) |\n",
        "| **O02932** | Orbit Number |\n",
        "| **02** | Sub-Orbit Granule Number (1-4) |\n",
        "| **T02267** | Track Number (Reference Ground Track) |\n",
        "| **02** | Positioning and Pointing Determination System (PPDS) type (00 = predict, 01 = rapid, 02+ = final) |\n",
        "| **003** | PGE Version Number |\n",
        "| **01** | Granule Production Version |\n",
        "| **V002** | Product Version |\n",
        "\n",
        "This naming structure helps identify the exact acquisition time, orbit, and processing version of the dataset.\n",
        "\n",
        "---"
      ]
    },
    {
      "cell_type": "markdown",
      "metadata": {
        "id": "WHzzQansTah6"
      },
      "source": [
        "### Opening and Exploring the HDF5 File  \n",
        "Now, let's load the GEDI HDF5 file and explore its contents using **h5py**.\n"
      ]
    },
    {
      "cell_type": "code",
      "execution_count": null,
      "metadata": {
        "id": "4LmHXY_9Tah6"
      },
      "outputs": [],
      "source": [
        "gediL2B = h5py.File(L2B, 'r')  # Read file using h5py"
      ]
    },
    {
      "cell_type": "markdown",
      "metadata": {
        "id": "Hh9aEsVYTah6"
      },
      "source": [
        "Navigate the HDF5 file below."
      ]
    },
    {
      "cell_type": "code",
      "execution_count": null,
      "metadata": {
        "id": "gBgbIMZSTah6"
      },
      "outputs": [],
      "source": [
        "list(gediL2B.keys())"
      ]
    },
    {
      "cell_type": "markdown",
      "metadata": {
        "id": "oBPL7-X_Tah6"
      },
      "source": [
        "The GEDI HDF5 file contains **groups** that store data and metadata.  \n",
        "First, we explore the **METADATA** group, which contains file-level metadata such as the creation date, processing version, and product version."
      ]
    },
    {
      "cell_type": "code",
      "execution_count": null,
      "metadata": {
        "id": "OrHQpF8KTah6"
      },
      "outputs": [],
      "source": [
        "list(gediL2B['METADATA'])"
      ]
    },
    {
      "cell_type": "markdown",
      "metadata": {
        "id": "50rN392cTah7"
      },
      "source": [
        "This contains useful information such as the creation date, PGEVersion, and VersionID. Below, print the file-level metadata attributes."
      ]
    },
    {
      "cell_type": "code",
      "execution_count": null,
      "metadata": {
        "id": "2xNCkr8UTah7"
      },
      "outputs": [],
      "source": [
        "for g in gediL2B['METADATA']['DatasetIdentification'].attrs:\n",
        "    print(g)"
      ]
    },
    {
      "cell_type": "code",
      "execution_count": null,
      "metadata": {
        "id": "t84iC9_pTah7"
      },
      "outputs": [],
      "source": [
        "print(gediL2B['METADATA']['DatasetIdentification'].attrs['purpose'])"
      ]
    },
    {
      "cell_type": "markdown",
      "metadata": {
        "id": "T7KqtKM-Tah7"
      },
      "source": [
        "## 2.2 Read SDS Metadata and Subset by Beam <a id=\"2.2\"></a>\n",
        "\n",
        "The **GEDI instrument** consists of **three lasers**, which are split into **eight beam ground transects**.  \n",
        "Each of these **eight beams** collects unique data on forest structure, and their characteristics vary in **energy and coverage**.\n",
        "\n",
        "Each GEDI L2B file contains **eight data groups**, corresponding to these **eight beam transects**.  \n",
        "To learn more about how GEDI beams work, visit:  \n",
        "🔗 [GEDI Instrument Specifications](https://gedi.umd.edu/instrument/specifications/)\n",
        "\n",
        "---"
      ]
    },
    {
      "cell_type": "code",
      "execution_count": null,
      "metadata": {
        "id": "5A2bxGL8Tah7"
      },
      "outputs": [],
      "source": [
        "beamNames = [g for g in gediL2B.keys() if g.startswith('BEAM')]\n",
        "beamNames"
      ]
    },
    {
      "cell_type": "markdown",
      "metadata": {
        "id": "uXdAkD9VTah7"
      },
      "source": [
        "### Identifying Full Power vs. Coverage Beams\n",
        "\n",
        "Each GEDI beam transect is classified as either a **Full Power Beam** or a **Coverage Beam**.  \n",
        "This classification affects **data quality** and **spatial coverage**.\n",
        "\n",
        "#### Full Power Beams  \n",
        "- Operate at **maximum power output**, providing a **higher signal-to-noise ratio**.  \n",
        "- Best for **penetrating dense canopies** and obtaining high-quality waveform data.  \n",
        "- More suitable for **detailed forest structure analysis**.\n",
        "\n",
        "#### Coverage Beams  \n",
        "- Designed to **maximize spatial coverage** rather than signal strength.  \n",
        "- Provide a **wider area of lidar measurements** but with **lower energy**.  \n",
        "- Useful for capturing broader landscape-scale patterns.\n",
        "\n",
        "By retrieving metadata from each beam transect, we can determine whether it is a **Full Power** or **Coverage Beam** before analyzing the data.\n"
      ]
    },
    {
      "cell_type": "code",
      "execution_count": null,
      "metadata": {
        "id": "H-0_ADtZTah7"
      },
      "outputs": [],
      "source": [
        "for g in gediL2B['BEAM0000'].attrs: print(g)"
      ]
    },
    {
      "cell_type": "code",
      "execution_count": null,
      "metadata": {
        "id": "vFbErI-BTah7"
      },
      "outputs": [],
      "source": [
        "for b in beamNames:\n",
        "    print(f\"{b} is a {gediL2B[b].attrs['description']}\")"
      ]
    },
    {
      "cell_type": "markdown",
      "metadata": {
        "id": "nFwyArPzTah7"
      },
      "source": [
        "Below, pick one of the full power beams that will be used to retrieve GEDI L2B shots in Section 3."
      ]
    },
    {
      "cell_type": "code",
      "execution_count": null,
      "metadata": {
        "id": "E47dmbFpTah7"
      },
      "outputs": [],
      "source": [
        "beamNames = ['BEAM1000']"
      ]
    },
    {
      "cell_type": "markdown",
      "metadata": {
        "id": "U8YRhdGNTah7"
      },
      "source": [
        "Identify all the objects in the GEDI HDF5 file below."
      ]
    },
    {
      "cell_type": "code",
      "execution_count": null,
      "metadata": {
        "id": "uBP4vSmWTah7"
      },
      "outputs": [],
      "source": [
        "gediL2B_objs = []\n",
        "gediL2B.visit(gediL2B_objs.append)                                           # Retrieve list of datasets\n",
        "gediSDS = [o for o in gediL2B_objs if isinstance(gediL2B[o], h5py.Dataset)]  # Search for relevant SDS inside data file\n",
        "[i for i in gediSDS if beamNames[0] in i][:10]                               # Print the first 10 datasets for selected beam"
      ]
    },
    {
      "cell_type": "markdown",
      "metadata": {
        "id": "iHIvJWyWTah7"
      },
      "source": [
        "# 3. Visualize a GEDI Orbit <a id=\"visualizeorbit\"></a>\n",
        "\n",
        "In this section, we will **import GEDI L2B spatial data** into a **GeoPandas** `GeoDataFrame`.  \n",
        "This will allow us to visualize the **sub-orbit footprint** of GEDI beam transects.\n",
        "\n",
        "### Steps:  \n",
        "1. Extract **GEDI shot locations** from the dataset.  \n",
        "2. Use `lat_lowestmode` and `lon_lowestmode` to create **geospatial points** with `shapely`.  \n",
        "3. Store the data in a `GeoDataFrame` for further mapping and analysis."
      ]
    },
    {
      "cell_type": "markdown",
      "metadata": {
        "id": "Daj9ZGGkTah7"
      },
      "source": [
        "## 3.1 Subset by Layer and Create a GeoDataFrame <a id=\"3.1\"></a>\n",
        "\n",
        "To efficiently visualize GEDI data, we will **extract key SDS layers** and create a **GeoDataFrame**.\n",
        "\n",
        "### Steps:  \n",
        "1. **Read in the Science DataSet (SDS)** layers needed for spatial visualization.  \n",
        "2. **Take a representative sample** by selecting every **100th GEDI shot** (to reduce data size).  \n",
        "3. **Store the extracted values in lists** and convert them into a `pandas` DataFrame.  \n",
        "\n",
        "This structured approach ensures that our data is **manageable** while still capturing the spatial distribution of GEDI shots.\n"
      ]
    },
    {
      "cell_type": "code",
      "execution_count": null,
      "metadata": {
        "id": "Va6O3DHETah7"
      },
      "outputs": [],
      "source": [
        "lonSample, latSample, shotSample, qualitySample, beamSample = [], [], [], [], []  # Set up lists to store data\n",
        "\n",
        "# Open the SDS\n",
        "lats = gediL2B[f'{beamNames[0]}/geolocation/lat_lowestmode'][()]\n",
        "lons = gediL2B[f'{beamNames[0]}/geolocation/lon_lowestmode'][()]\n",
        "shots = gediL2B[f'{beamNames[0]}/geolocation/shot_number'][()]\n",
        "quality = gediL2B[f'{beamNames[0]}/l2b_quality_flag'][()]\n",
        "\n",
        "# Take every 100th shot and append to list\n",
        "for i in range(len(shots)):\n",
        "    if i % 100 == 0:\n",
        "        shotSample.append(str(shots[i]))\n",
        "        lonSample.append(lons[i])\n",
        "        latSample.append(lats[i])\n",
        "        qualitySample.append(quality[i])\n",
        "        beamSample.append(beamNames[0])\n",
        "\n",
        "# Write all of the sample shots to a dataframe\n",
        "latslons = pd.DataFrame({'Beam': beamSample, 'Shot Number': shotSample, 'Longitude': lonSample, 'Latitude': latSample,\n",
        "                         'Quality Flag': qualitySample})\n",
        "latslons"
      ]
    },
    {
      "cell_type": "markdown",
      "metadata": {
        "id": "gtNOw8DzTah8"
      },
      "source": [
        "Above is a DataFrame containing key information for each GEDI shot, including:\n",
        "- **Beam ID**  \n",
        "- **Shot number**  \n",
        "- **Latitude (`lat_lowestmode`) and Longitude (`lon_lowestmode`)**  \n",
        "- **Quality indicators**  \n",
        "\n",
        "### Creating a Geometry Column  \n",
        "Next, we will **add a new column called `geometry`**, which stores a **shapely Point object** for each shot's location.  \n",
        "This allows us to convert the DataFrame into a **GeoDataFrame**, enabling spatial analysis and visualization.\n"
      ]
    },
    {
      "cell_type": "code",
      "execution_count": null,
      "metadata": {
        "id": "beIyZ1IfTaiC"
      },
      "outputs": [],
      "source": [
        "# Take the lat/lon dataframe and convert each lat/lon to a shapely point\n",
        "latslons['geometry'] = latslons.apply(lambda row: Point(row.Longitude, row.Latitude), axis=1)"
      ]
    },
    {
      "cell_type": "markdown",
      "metadata": {
        "id": "eip-OdiXTaiC"
      },
      "source": [
        "Next, convert to a `Geopandas` GeoDataFrame."
      ]
    },
    {
      "cell_type": "code",
      "execution_count": null,
      "metadata": {
        "id": "kPJdIVDwTaiC"
      },
      "outputs": [],
      "source": [
        "# Convert to a Geodataframe\n",
        "latslons = gp.GeoDataFrame(latslons)\n",
        "latslons = latslons.drop(columns=['Latitude','Longitude'])\n",
        "latslons['geometry']"
      ]
    },
    {
      "cell_type": "markdown",
      "metadata": {
        "id": "kWLWO7o3TaiC"
      },
      "source": [
        "Pull out and plot an example `shapely` point below."
      ]
    },
    {
      "cell_type": "code",
      "execution_count": null,
      "metadata": {
        "id": "HrEpkVErTaiC",
        "scrolled": true
      },
      "outputs": [],
      "source": [
        "latslons['geometry'][0]"
      ]
    },
    {
      "cell_type": "markdown",
      "metadata": {
        "id": "6OMbsS-cTaiC"
      },
      "source": [
        "## 3.2 Visualize a GeoDataFrame <a id=\"3.2\"></a>\n",
        "#### In this section, use the GeoDataFrame of Queensland and the QPRP plots, and use the `leafmap` python package to spatially visualize the location of the GEDI shots on a basemap."
      ]
    },
    {
      "cell_type": "markdown",
      "metadata": {
        "id": "8VyTcJABTaiC"
      },
      "source": [
        "Import a GeoJSON of Queensland and a ShapeFile the QPRP plots as GeoDataFrames. Note that you will need to have downloaded the folder with DATA to your Google Drive."
      ]
    },
    {
      "cell_type": "code",
      "execution_count": null,
      "metadata": {
        "id": "lcWqZ2GGTaiC"
      },
      "outputs": [],
      "source": [
        "import geopandas as gpd\n",
        "plots = 'DATA/plots.shp'\n",
        "plots_gdf = gpd.read_file(plots, encoding='ISO-8859-1')\n",
        "QLD = gpd.read_file('DATA/QLD-STATE.geojson')"
      ]
    },
    {
      "cell_type": "markdown",
      "source": [
        "Define the center of Queensland and it's coordinates."
      ],
      "metadata": {
        "id": "Mp8gKDXlm9h6"
      }
    },
    {
      "cell_type": "code",
      "execution_count": null,
      "metadata": {
        "id": "d7twjSfXSKxB"
      },
      "outputs": [],
      "source": [
        "center = QLD.geometry.centroid\n",
        "center_coords = [center.iloc[0].y, center.iloc[0].x]\n",
        "center_coords"
      ]
    },
    {
      "cell_type": "markdown",
      "metadata": {
        "id": "zsiCuJLdSKxC"
      },
      "source": [
        "Now we make a simple interactive map using `leafmap` that shows Queensland and the QPRP plots. A new window might open on the right; you can simply close it and continue running the script."
      ]
    },
    {
      "cell_type": "code",
      "execution_count": null,
      "metadata": {
        "id": "KBdwtw17TaiD"
      },
      "outputs": [],
      "source": [
        "import leafmap\n",
        "m = leafmap.Map(center = center_coords, zoom = 5) #Make a map with the center set as the center of Queensland and zoomed in on this point\n",
        "m.add_basemap('HYBRID') #Set a basemap as background\n",
        "m.add_gdf(QLD, layer_name=\"Queensland\", style={'fillColor': 'yellow', 'color': 'yellow', 'fillOpacity': 0.5}) #Add the shape of Queensland to the map\n",
        "m.add_markers(plots_gdf, shape=\"circle\", radius=4, color=\"blue\", fill_color=\"blue\", popup=[\"plot_name\"]) #Add the QPRP plots to the map as markers\n",
        "m #display the map"
      ]
    },
    {
      "cell_type": "markdown",
      "metadata": {
        "id": "txdvXnqNSKxD"
      },
      "source": [
        "Congrats, you made your first map!\n",
        "\n",
        "Next, let's make a new map that also adds all the GEDI shots from the chosen beam."
      ]
    },
    {
      "cell_type": "code",
      "execution_count": null,
      "metadata": {
        "id": "ZGgu7oaCTaiD"
      },
      "outputs": [],
      "source": [
        "m = leafmap.Map(center = center_coords, zoom = 7) #Make a new map with the same settings as the previous one\n",
        "m.add_basemap('HYBRID')\n",
        "m.add_gdf(QLD, layer_name=\"Queensland\", style={'fillColor': 'yellow', 'color': 'yellow', 'fillOpacity': 0.5})\n",
        "m.add_markers(plots_gdf, shape=\"circle\", radius=4, color=\"blue\", fill_color=\"blue\", popup=[\"plot_name\"])\n",
        "m.add_markers(latslons, shape=\"circle\", radius=2, color=\"red\", fill_color=\"red\", popup=[\"geometry\", \"Beam\", \"Shot Number\", \"Quality Flag\"]) #This time we also add the shots from the selected GEDI beam\n",
        "m"
      ]
    },
    {
      "cell_type": "markdown",
      "metadata": {
        "id": "WWjh88Y5TaiD"
      },
      "source": [
        "Above is a good illustration of the new GEDI _Version 2_ sub-orbit granules. One of the benefits of using `leafmap` is the interactive nature of the output maps. Use the tools in the upper right of the map and try zooming in to find interesting shots close to QPRP plots."
      ]
    },
    {
      "cell_type": "markdown",
      "metadata": {
        "id": "ZLtzPYsoTaiD"
      },
      "source": [
        "Side Note: Wondering what the 0's and 1's for `l2b_quality_flag` mean?"
      ]
    },
    {
      "cell_type": "code",
      "execution_count": null,
      "metadata": {
        "id": "QMswBC9PTaiD"
      },
      "outputs": [],
      "source": [
        "print(f\"Quality Flag: {gediL2B[b]['l2b_quality_flag'].attrs['description']}\")"
      ]
    },
    {
      "cell_type": "markdown",
      "metadata": {
        "id": "000Nn5pKTaiD"
      },
      "source": [
        "Above, 0 is poor quality and a quality_flag value of 1 indicates the laser shot meets criteria based on energy, sensitivity, amplitude, and real-time surface tracking quality. We will show an example of how to quality filter GEDI data in section 5.1.\n",
        "After finding one of the shots close to a QPRP plot and with a quality index of 1, find the index for that shot number so that we can find the correct shot to visualize in Section 4."
      ]
    },
    {
      "cell_type": "markdown",
      "metadata": {
        "id": "Xpr1upiPTaiD"
      },
      "source": [
        "Each GEDI shot has a unique shot identifier (shot number) that is available within each data group of the product. The shot number is important to retain in any data subsetting as it will allow the user to link any shot record back to the original orbit data, and to link any shot and its data between the L1 and L2 products. The standard format  for GEDI Shots is as follows:"
      ]
    },
    {
      "cell_type": "markdown",
      "metadata": {
        "id": "8xi5b4YTTaiE"
      },
      "source": [
        "**Shot: 29320600200465601**\n",
        "> **2932**: Orbit Number      \n",
        "**06**: Beam Number    \n",
        "**0**: Reserved for future use     \n",
        "**02**: Sub-orbit Granule Number    \n",
        "**004**: Minor frame number   \n",
        "**65601**: Shot index  "
      ]
    },
    {
      "cell_type": "markdown",
      "source": [
        "### 🧐 Question to Think About:\n",
        "\n",
        "- How does the spatial distribution of GEDI shots relate to the ISS orbit path? Why do they appear in a narrow strip?\n",
        "\n"
      ],
      "metadata": {
        "id": "oSeANAYWgN-D"
      }
    },
    {
      "cell_type": "markdown",
      "metadata": {
        "id": "KQdmQKBPTaiE"
      },
      "source": [
        "# 4. Work with GEDI L2B Data <a id=\"L2B\"></a>\n",
        "\n",
        "The **GEDI L2B product** provides **biophysical information** derived from geolocated return waveforms, including:\n",
        "- **Canopy cover** (total and vertical profiles)  \n",
        "- **Plant Area Index (PAI)**  \n",
        "- **Vertical Plant Area Volume Density (PAVD) profile**  \n",
        "- **Foliage Height Diversity (FHD)**  \n",
        "\n",
        "These metrics allow us to analyze **forest structure and canopy characteristics** at a detailed level.\n",
        "\n",
        "📄 **For detailed product information, visit:**  \n",
        "[GEDI L2B Product Page](https://doi.org/10.5067/GEDI/GEDI02_B.002)\n"
      ]
    },
    {
      "cell_type": "markdown",
      "metadata": {
        "id": "mEJsLNzTTaiE"
      },
      "source": [
        "## 4.1 Import and Extract Specific Shots\n",
        "\n",
        "The GEDI L2B product contains **thousands of datasets** across multiple variables.  \n",
        "In this section, you will **subset the dataset** to extract specific GEDI shots and retrieve relevant biophysical metrics.\n"
      ]
    },
    {
      "cell_type": "code",
      "execution_count": null,
      "metadata": {
        "id": "BxqWL3HsTaiE"
      },
      "outputs": [],
      "source": [
        "len(gediSDS)"
      ]
    },
    {
      "cell_type": "code",
      "execution_count": null,
      "metadata": {
        "id": "x1_8dakJTaiE"
      },
      "outputs": [],
      "source": [
        "beamNames"
      ]
    },
    {
      "cell_type": "code",
      "execution_count": null,
      "metadata": {
        "id": "ltAZaEk9TaiE"
      },
      "outputs": [],
      "source": [
        "beamSDS = [g for g in gediSDS if beamNames[0] in g]  # Subset to a single beam\n",
        "len(beamSDS)"
      ]
    },
    {
      "cell_type": "markdown",
      "metadata": {
        "id": "J4AUUlpRTaiE"
      },
      "source": [
        "We will set 2 shot indices as an example. These shotindices will work for all the following code. Feel free to set it to different shots, however take into account that it is not guaranteed that everything will work."
      ]
    },
    {
      "cell_type": "code",
      "execution_count": null,
      "metadata": {
        "id": "LCy4koHcTaiE"
      },
      "outputs": [],
      "source": [
        "shot1 = 226260800100074501\n",
        "shot2 = 226260800100074101"
      ]
    },
    {
      "cell_type": "code",
      "execution_count": null,
      "metadata": {
        "id": "5G-VOW3QTaiE"
      },
      "outputs": [],
      "source": [
        "index1 = np.where(gediL2B[f'{beamNames[0]}/shot_number'][()]==shot1)[0][0]  # Set the index for the first shot identified above\n",
        "index1"
      ]
    },
    {
      "cell_type": "code",
      "execution_count": null,
      "metadata": {
        "id": "35JmAYC5SKxL"
      },
      "outputs": [],
      "source": [
        "index2 = np.where(gediL2B[f'{beamNames[0]}/shot_number'][()]==shot2)[0][0]  # Set the index for the second shot identified above\n",
        "index2"
      ]
    },
    {
      "cell_type": "markdown",
      "metadata": {
        "id": "lb8lhUoLTaiE"
      },
      "source": [
        "## 4.2 Visualize PAVD\n",
        "\n",
        "In this section, we will **import and visualize** the **Plant Area Volume Density (PAVD)** metric (`pavd_z`).  \n",
        "\n",
        "### What You Will Learn:  \n",
        "- How to **extract** PAVD data from the GEDI L2B product.  \n",
        "- How to **visualize PAVD profiles** to analyze vertical forest structure.  \n",
        "- How different **GEDI shots capture variations** in plant volume at different heights.  \n",
        "\n",
        "By plotting **PAVD profiles**, we can better understand **how plant material is distributed** within the forest canopy.\n"
      ]
    },
    {
      "cell_type": "code",
      "execution_count": null,
      "metadata": {
        "id": "e3RTT5xvTaiE"
      },
      "outputs": [],
      "source": [
        "pavd = gediL2B[[g for g in beamSDS if g.endswith('/pavd_z')][0]]  # PAVD"
      ]
    },
    {
      "cell_type": "markdown",
      "metadata": {
        "id": "Y6oVcCoETaiE"
      },
      "source": [
        "Print the description for the PAVD dataset."
      ]
    },
    {
      "cell_type": "code",
      "execution_count": null,
      "metadata": {
        "id": "_Zza41NbTaiE"
      },
      "outputs": [],
      "source": [
        "print(f\"Plant Area Volume Density is {pavd.attrs['description']}\")"
      ]
    },
    {
      "cell_type": "markdown",
      "metadata": {
        "id": "4Pre6EdsTaiE"
      },
      "source": [
        "Below, open the `dz` layer in order to define the correct vertical step size."
      ]
    },
    {
      "cell_type": "code",
      "execution_count": null,
      "metadata": {
        "id": "I0SUFyKvTaiE"
      },
      "outputs": [],
      "source": [
        "# Grab vertical step size\n",
        "dz = gediL2B[f'{beamNames[0]}/ancillary/dz'][0]\n",
        "dz"
      ]
    },
    {
      "cell_type": "markdown",
      "metadata": {
        "id": "Z58MwaniTaiE"
      },
      "source": [
        "So the vertical step size is 5.0 meters."
      ]
    },
    {
      "cell_type": "code",
      "execution_count": null,
      "metadata": {
        "id": "1SYiISikTaiE"
      },
      "outputs": [],
      "source": [
        "print(f\"The shape of PAVD is {pavd.shape}.\")"
      ]
    },
    {
      "cell_type": "markdown",
      "metadata": {
        "id": "4F03BIpQTaiE"
      },
      "source": [
        "And it looks like PAVD includes 30 \"steps\" in each shot, describing the PAVD at height = step # * `dz`.\n",
        "\n",
        "Now, bring in other useful L2B datasets such as `elev_lowestmode`, `lat_lowestmode` and `lon_lowestmode`."
      ]
    },
    {
      "cell_type": "code",
      "execution_count": null,
      "metadata": {
        "id": "1fMmFBM8TaiF"
      },
      "outputs": [],
      "source": [
        "# Bring in the desired SDS\n",
        "elev = gediL2B[f'{beamNames[0]}/geolocation/elev_lowestmode'][()]  # Latitude\n",
        "lats = gediL2B[f'{beamNames[0]}/geolocation/lat_lowestmode'][()]  # Latitude\n",
        "lons = gediL2B[f'{beamNames[0]}/geolocation/lon_lowestmode'][()]  # Longitude"
      ]
    },
    {
      "cell_type": "markdown",
      "metadata": {
        "id": "3v54dLOVTaiF"
      },
      "source": [
        "Grab the location, elevation, and PAVD metrics for the shots defined above:"
      ]
    },
    {
      "cell_type": "code",
      "execution_count": null,
      "metadata": {
        "id": "gHL9KydETaiF"
      },
      "outputs": [],
      "source": [
        "shotElev1 = elev[index1]\n",
        "shotLat1 = lats[index1]\n",
        "shotLon1 = lons[index1]\n",
        "shotPAVD1 = pavd[index1]\n",
        "\n",
        "#now for shot 2\n",
        "shotElev2 = elev[index2]\n",
        "shotLat2 = lats[index2]\n",
        "shotLon2 = lons[index2]\n",
        "shotPAVD2 = pavd[index2]"
      ]
    },
    {
      "cell_type": "markdown",
      "metadata": {
        "id": "TI9nM34yTaiF"
      },
      "source": [
        "Put everything together to identify the shots that we want to extract:"
      ]
    },
    {
      "cell_type": "code",
      "execution_count": null,
      "metadata": {
        "id": "yiXP5KH7TaiF"
      },
      "outputs": [],
      "source": [
        "print(f\"The first shot is located at: {str(shotLat1)}, {str(shotLon1)} (shot ID: {shot1}, index {index1}) and is from {beamNames[0]}.\")\n",
        "print(f\"The second shot is located at: {str(shotLat2)}, {str(shotLon2)} (shot ID: {shot2}, index {index2}) and is from {beamNames[0]}.\")"
      ]
    },
    {
      "cell_type": "markdown",
      "metadata": {
        "id": "eD_G0LEgTaiF"
      },
      "source": [
        "Next, reformat PAVD into a list of uplets containing each PAVD value and height."
      ]
    },
    {
      "cell_type": "code",
      "execution_count": null,
      "metadata": {
        "id": "azaawJRHTaiF"
      },
      "outputs": [],
      "source": [
        "# Append the first shot to the list\n",
        "pavdAll1 = []\n",
        "pavdElev1 = []\n",
        "\n",
        "for i, e in enumerate(range(len(shotPAVD1))):\n",
        "    if shotPAVD1[i] > 0:\n",
        "        pavdElev1.append((shot1, shotElev1 + dz * i, shotPAVD1[i]))  # Append tuple of shot number, elevation, and PAVD\n",
        "pavdAll1.append(pavdElev1)                                         # Append to final list\n",
        "\n",
        "# Append the second shot to the list\n",
        "pavdAll2 = []\n",
        "pavdElev2 = []\n",
        "\n",
        "for i, e in enumerate(range(len(shotPAVD2))):\n",
        "    if shotPAVD2[i] > 0:\n",
        "        pavdElev2.append((shot2, shotElev2 + dz * i, shotPAVD2[i]))  # Append tuple of shot number, elevation, and PAVD\n",
        "pavdAll2.append(pavdElev2)                                         # Append to final list"
      ]
    },
    {
      "cell_type": "markdown",
      "metadata": {
        "id": "Vwd-BAhYTaiF"
      },
      "source": [
        "Below, plot each shot by using `HoloView`. This high-level visualization library makes it easy to generate interactive plots with minimal code."
      ]
    },
    {
      "cell_type": "code",
      "execution_count": null,
      "metadata": {
        "id": "Y8elaJ2aTaiF"
      },
      "outputs": [],
      "source": [
        "pavdAll1"
      ]
    },
    {
      "cell_type": "code",
      "execution_count": null,
      "metadata": {
        "id": "3d20n2zMSKxX"
      },
      "outputs": [],
      "source": [
        "pavdAll2"
      ]
    },
    {
      "cell_type": "code",
      "execution_count": null,
      "metadata": {
        "id": "Z9-AZciVSKxX"
      },
      "outputs": [],
      "source": [
        "# Create Holoviews Paths\n",
        "# Be careful to change the shot numbers if necessary\n",
        "path1 = hv.Path(pavdAll1, vdims='PAVD').opts(\n",
        "    color='PAVD', clim=(0, 0.1), cmap='Greens', line_width=20, colorbar=True,\n",
        "    width=700, height=550, clabel='PAVD', xlabel='Shot Number - 226260800100074501',\n",
        "    ylabel='Elevation (m)', fontsize={'title': 16, 'xlabel': 16, 'ylabel': 16,\n",
        "                                      'xticks': 12, 'yticks': 12,\n",
        "                                      'clabel': 12, 'cticks': 10},\n",
        "    shared_axes=False  # ✅ Allows independent Y-axis for visibility\n",
        ")\n",
        "\n",
        "path2 = hv.Path(pavdAll2, vdims='PAVD').opts(\n",
        "    color='PAVD', clim=(0, 0.1), cmap='Greens', line_width=20, colorbar=True,\n",
        "    width=700, height=550, clabel='PAVD', xlabel='Shot Number - 226260800100074101',\n",
        "    ylabel='Elevation (m)', fontsize={'title': 16, 'xlabel': 16, 'ylabel': 16,\n",
        "                                      'xticks': 12, 'yticks': 12,\n",
        "                                      'clabel': 12, 'cticks': 10},\n",
        "    shared_axes=False  # ✅ Different scaling for better visibility\n",
        ")\n",
        "\n",
        "# Display side by side without shared axes\n",
        "(path1 + path2).opts(shared_axes=False)\n",
        "\n"
      ]
    },
    {
      "cell_type": "markdown",
      "metadata": {
        "id": "xuV6eU-CTaiF"
      },
      "source": [
        "### 🎉 Congratulations! You have plotted your first PAVD profile.\n",
        "\n",
        "Now, let's analyze the results and reflect on the data.\n",
        "\n"
      ]
    },
    {
      "cell_type": "markdown",
      "source": [
        "### 🧐 Questions to Think About:\n",
        "   - What do you notice about the axes for elevation? How does this affect the way PAVD is displayed?\n",
        "   - Why do the two plots have different elevation ranges? What does this tell us about the two shots?\n",
        "   - If we had used the same y-axis limits for both graphs, what would change?\n",
        "   - Which regions in the plot have the highest PAVD values? What does this mean in terms of canopy structure?\n",
        "   - Is the PAVD distribution continuous or patchy? Why might this be the case?\n",
        "   - How does the PAVD vary with elevation? Is there a pattern you can identify?\n",
        "   - The PAVD is color-coded using a gradient from light green to dark green. What does a darker color indicate?\n",
        "   - Does the color scale influence how you interpret the data? If so, how?\n",
        "   - If we used a different colormap (e.g., ‘Reds’ instead of ‘Greens’), how might that affect interpretation?\n",
        "   - What could cause one shot to have higher PAVD values at certain elevations than the other?\n",
        "   - How do these profiles relate to forest structure? Can you infer anything about canopy height or density?\n",
        "   - If you were collecting more data, what other variables would you want to include for a better understanding of PAVD?\n",
        "\n",
        "**Extra**: Using what you've learned, describe what you would expect to see in a PAVD profile for:\n",
        "   - A dense tropical rainforest\n",
        "   - An open savanna\n",
        "   - A recently logged forest"
      ],
      "metadata": {
        "id": "SbfGk0AyIyo_"
      }
    },
    {
      "cell_type": "markdown",
      "metadata": {
        "id": "zJiSeFV1TaiF"
      },
      "source": [
        "# 5. Work with GEDI L2B Beam Transects <a id=\"beamtransects\"></a>\n",
        "\n",
        "In this section, we will extract and analyze **beam transect data** from the GEDI L2B product.\n",
        "\n",
        "### What You Will Learn:  \n",
        "- How to **import key SDS layers** for a specific GEDI beam.  \n",
        "- How to **store extracted data** in a `pandas` DataFrame.  \n",
        "- How to analyze the structure and distribution of beam-level data.  \n",
        "\n",
        "#### Extracting Data for a Specific Beam  \n",
        "We will focus on **BEAM0110** and retrieve relevant SDS layers **for the entire orbit**. The extracted data will be stored in a structured format for further analysis.\n"
      ]
    },
    {
      "cell_type": "code",
      "execution_count": null,
      "metadata": {
        "id": "sYW-FsJFTaiF"
      },
      "outputs": [],
      "source": [
        "# Open all of the desired SDS\n",
        "dem = gediL2B[[g for g in beamSDS if g.endswith('/digital_elevation_model')][0]][()]\n",
        "zElevation = gediL2B[[g for g in beamSDS if g.endswith('/elev_lowestmode')][0]][()]\n",
        "zHigh = gediL2B[[g for g in beamSDS if g.endswith('/elev_highestreturn')][0]][()]\n",
        "zLat = gediL2B[[g for g in beamSDS if g.endswith('/lat_lowestmode')][0]][()]\n",
        "zLon = gediL2B[[g for g in beamSDS if g.endswith('/lon_lowestmode')][0]][()]\n",
        "canopyHeight = gediL2B[[g for g in beamSDS if g.endswith('/rh100')][0]][()]\n",
        "quality = gediL2B[[g for g in beamSDS if g.endswith('/l2b_quality_flag')][0]][()]\n",
        "degrade = gediL2B[[g for g in beamSDS if g.endswith('/degrade_flag')][0]][()]\n",
        "sensitivity = gediL2B[[g for g in beamSDS if g.endswith('/sensitivity')][0]][()]\n",
        "pavd = gediL2B[f'{beamNames[0]}/pavd_z'][()]\n",
        "shotNums = gediL2B[f'{beamNames[0]}/shot_number'][()]\n",
        "selectedAlgorithmL2A = gediL2B[[g for g in beamSDS if g.endswith('/selected_l2a_algorithm')][0]][()]\n",
        "\n",
        "# Create a shot index\n",
        "shotIndex = np.arange(shotNums.size)"
      ]
    },
    {
      "cell_type": "markdown",
      "metadata": {
        "id": "Bpd3Q_SfTaiF"
      },
      "source": [
        "In the GEDI L2B product, Canopy Height is stored in units (cm), so below convert to meters."
      ]
    },
    {
      "cell_type": "code",
      "execution_count": null,
      "metadata": {
        "id": "RM6ezhGHTaiF"
      },
      "outputs": [],
      "source": [
        "canopyHeight = canopyHeight / 100  # Convert RH100 from cm to m"
      ]
    },
    {
      "cell_type": "markdown",
      "metadata": {
        "id": "BgF-8ve1TaiF"
      },
      "source": [
        "As mentioned in the sections above, Plant Area Volume Density (pavd) is defined as the _Vertical Plant Area Volume Density profile with a vertical step size of dZ_. Below, reformat the shape of the PAVD layer in order to add it to the dataframe below."
      ]
    },
    {
      "cell_type": "code",
      "execution_count": null,
      "metadata": {
        "id": "T89hwDB3TaiF"
      },
      "outputs": [],
      "source": [
        "print(f\"The shape of Canopy Height is {canopyHeight.shape} vs. the shape of PAVD, which is {pavd.shape}.\")"
      ]
    },
    {
      "cell_type": "markdown",
      "metadata": {
        "id": "0p0x6_h6TaiF"
      },
      "source": [
        "Above, notice that unlike a SDS layer like Canopy Height, which has a single value for each shot, PAVD has 30 values (representing different vertical heights) for each shot.\n",
        "\n",
        "Below, reformat the data into a list of values for each shot:"
      ]
    },
    {
      "cell_type": "code",
      "execution_count": null,
      "metadata": {
        "id": "yY0sieWATaiG"
      },
      "outputs": [],
      "source": [
        "# Set up an empty list to append to\n",
        "pavdA = []\n",
        "for i in range(len(pavd)):\n",
        "\n",
        "    # If any of the values are fill value, set to nan\n",
        "    pavdF = [np.nan]\n",
        "    for p in range(len(pavd[i])):\n",
        "        if pavd[i][p]!= -9999:\n",
        "            pavdF.append(pavd[i][p])  # If the value is not fill value, append to list\n",
        "    pavdA.append(pavdF)               # Append back to master list"
      ]
    },
    {
      "cell_type": "markdown",
      "metadata": {
        "id": "PtJ0kR5qTaiG"
      },
      "source": [
        "Below, notice the reformatted PAVD layer, which should now fit into the dataframe created below."
      ]
    },
    {
      "cell_type": "code",
      "execution_count": null,
      "metadata": {
        "id": "iOYqEeTFTaiG",
        "scrolled": true
      },
      "outputs": [],
      "source": [
        "len(pavdA)"
      ]
    },
    {
      "cell_type": "code",
      "execution_count": null,
      "metadata": {
        "id": "q1QM-GE4TaiG"
      },
      "outputs": [],
      "source": [
        "# Take the DEM, GEDI-produced Elevation, and Canopy height and add to a Pandas dataframe\n",
        "transectDF = pd.DataFrame({\n",
        "    'Shot Index': shotIndex,\n",
        "    'Shot Number': shotNums,\n",
        "    'Latitude': zLat,\n",
        "    'Longitude': zLon,\n",
        "    'Tandem-X DEM': dem,\n",
        "    'Elevation (m)': zElevation,\n",
        "    'Canopy Elevation (m)': zHigh,\n",
        "    'Canopy Height (rh100)': canopyHeight,\n",
        "    'Quality Flag': quality,\n",
        "    'Degrade Flag': degrade,\n",
        "    'Plant Area Volume Density': pavdA,\n",
        "    'Sensitivity': sensitivity,\n",
        "    'Selected L2A Algorithm': selectedAlgorithmL2A\n",
        "    })"
      ]
    },
    {
      "cell_type": "code",
      "execution_count": null,
      "metadata": {
        "id": "l68eCYUwTaiG"
      },
      "outputs": [],
      "source": [
        "transectDF"
      ]
    },
    {
      "cell_type": "code",
      "execution_count": null,
      "metadata": {
        "id": "kdmndZkoTaiG"
      },
      "outputs": [],
      "source": [
        "index1"
      ]
    },
    {
      "cell_type": "markdown",
      "metadata": {
        "id": "bLhaJWDaTaiG"
      },
      "source": [
        "Notice the unusual values listed above--those shots are flagged as poor quality and will be removed in Section 5.1.\n",
        "\n",
        "\n",
        "Now that you have the desired SDS into a `pandas` dataframe, begin plotting the entire beam transect:"
      ]
    },
    {
      "cell_type": "code",
      "execution_count": null,
      "metadata": {
        "id": "loOrusLnTaiG"
      },
      "outputs": [],
      "source": [
        "# Plot Canopy Height\n",
        "canopyVis = hv.Scatter((transectDF['Shot Index'], transectDF['Canopy Height (rh100)']))\n",
        "canopyVis.opts(color='darkgreen', height=500, width=900, title=f'GEDI L2B Full Transect {beamNames[0]}',\n",
        "               fontsize={'title':16, 'xlabel':16, 'ylabel': 16}, size=0.1, xlabel='Shot Index', ylabel='Canopy Height (m)')"
      ]
    },
    {
      "cell_type": "markdown",
      "metadata": {
        "id": "2F6CYcnGTaiG"
      },
      "source": [
        "Congratulations!\n",
        "You have plotted your first **GEDI sub-orbit beam transect**. Notice above that things look a little messy--before we dive deeper into plotting full transects, let's quality filter the shots in the section below."
      ]
    },
    {
      "cell_type": "markdown",
      "source": [
        "### 🧐 Questions to Think About:\n",
        "\n",
        "- Do you notice any patterns in the canopy height across the transect?  \n",
        "- What could be the cause of the sharp peaks and valleys in the graph?  \n",
        "- Are there sections of the graph where canopy height is more consistent? What might this indicate about the underlying terrain or vegetation?  \n",
        "- The plot appears \"messy\" with scattered points. What might be causing this?  \n",
        "- Could some of these low canopy height values be from non-vegetated surfaces (e.g., roads, water bodies)?  \n",
        "- What kinds of errors or uncertainties might be present in GEDI measurements? How can filtering (e.g., using the quality flag) help?  \n",
        "- If you plotted a different GEDI beam, would you expect to see similar patterns, or would they be different? Why?  \n",
        "- How might the same transect look in a dense tropical forest versus an open savanna?  \n",
        "- If you had access to ground-based LiDAR data, how could you validate the accuracy of these canopy height measurements?  \n"
      ],
      "metadata": {
        "id": "qqDb9SYAhSED"
      }
    },
    {
      "cell_type": "markdown",
      "metadata": {
        "id": "dN-Dij3LTaiG"
      },
      "source": [
        "## 5.1 Quality Filtering\n",
        "\n",
        "Now that the **beam transect data** has been imported into a DataFrame, we will perform **quality filtering** to ensure reliable analysis.\n",
        "\n",
        "### Why Filter?  \n",
        "The **`l2b_quality_flag`** indicates whether a GEDI shot meets **quality control standards**.  \n",
        "- A value of **1** means the shot is **high quality**.  \n",
        "- A value of **0** means the shot **does not meet quality standards** and should be filtered out.  \n",
        "\n",
        "### Filtering Process  \n",
        "We will **remove any shots where** `l2b_quality_flag == 0` by setting them as `NaN`.  \n",
        "This ensures that only **valid GEDI measurements** are retained in the dataset.\n",
        "\n",
        "#### Reading the Syntax  \n",
        "The filtering statement can be interpreted as:  \n",
        "> **In the DataFrame, find rows where** `l2b_quality_flag != 0`.  \n",
        "> **If a row does not meet this condition, replace all values with `NaN`.**\n"
      ]
    },
    {
      "cell_type": "code",
      "execution_count": null,
      "metadata": {
        "id": "s_hoGijxTaiG"
      },
      "outputs": [],
      "source": [
        "transectDF = transectDF.where(transectDF['Quality Flag'].ne(0))  # Set any poor quality returns to NaN"
      ]
    },
    {
      "cell_type": "code",
      "execution_count": null,
      "metadata": {
        "id": "CWAGR5yYTaiG"
      },
      "outputs": [],
      "source": [
        "transectDF"
      ]
    },
    {
      "cell_type": "markdown",
      "metadata": {
        "id": "wdWsGcrLTaiG"
      },
      "source": [
        "Below, quality filter even further by using the `degrade_flag` (Greater than zero if the shot occurs during a degrade period, zero otherwise) and the `Sensitivity` layer, using a threshold of 0.95."
      ]
    },
    {
      "cell_type": "code",
      "execution_count": null,
      "metadata": {
        "id": "BdcYe5GKTaiG"
      },
      "outputs": [],
      "source": [
        "transectDF = transectDF.where(transectDF['Degrade Flag'] < 1)\n",
        "transectDF = transectDF.where(transectDF['Sensitivity'] > 0.95)"
      ]
    },
    {
      "cell_type": "markdown",
      "metadata": {
        "id": "Xg_4a2bVTaiG"
      },
      "source": [
        "Below, drop all of the shots that did not pass the quality filtering standards outlined above from the `transectDF`."
      ]
    },
    {
      "cell_type": "code",
      "execution_count": null,
      "metadata": {
        "id": "EcmWbAKRTaiH"
      },
      "outputs": [],
      "source": [
        "transectDF = transectDF.dropna()  # Drop all of the rows (shots) that did not pass the quality filtering above"
      ]
    },
    {
      "cell_type": "code",
      "execution_count": null,
      "metadata": {
        "id": "3DjBKRQsTaiH"
      },
      "outputs": [],
      "source": [
        "print(f\"Quality filtering complete, {len(transectDF)} high quality shots remaining.\")"
      ]
    },
    {
      "cell_type": "markdown",
      "metadata": {
        "id": "GBxu5yU7TaiH"
      },
      "source": [
        "## 5.2 Plot Beam Transects   \n",
        "\n",
        "Now that we have **filtered the GEDI beam transect data**, we will visualize the remaining **high-quality** shots.  \n",
        "\n",
        "### Visualization Approach  \n",
        "We will use `holoviews` **Scatter()** to plot the remaining GEDI shots after quality filtering.  \n",
        "By overlaying multiple elevation datasets in a **combined plot**, we can analyze how GEDI-derived elevations compare to Tandem-X data.\n"
      ]
    },
    {
      "cell_type": "code",
      "execution_count": null,
      "metadata": {
        "id": "Q3Gun1xfTaiH"
      },
      "outputs": [],
      "source": [
        "# Plot Digital Elevation Model\n",
        "demVis = hv.Scatter((transectDF['Shot Index'], transectDF['Tandem-X DEM']), label='Tandem-X DEM')\n",
        "demVis = demVis.opts(color='black', height=500, width=900, fontsize={'xlabel': 16, 'ylabel': 16}, size=2)"
      ]
    },
    {
      "cell_type": "code",
      "execution_count": null,
      "metadata": {
        "id": "TrVS-uROTaiH"
      },
      "outputs": [],
      "source": [
        "# Plot GEDI-Retrieved Elevation\n",
        "zVis = hv.Scatter((transectDF['Shot Index'], transectDF['Elevation (m)']), label='GEDI-derived Elevation')\n",
        "zVis = zVis.opts(color='saddlebrown', height=500, width=900, fontsize={'xlabel': 16, 'ylabel': 16}, size=2)"
      ]
    },
    {
      "cell_type": "code",
      "execution_count": null,
      "metadata": {
        "id": "yZiZRw7VTaiH"
      },
      "outputs": [],
      "source": [
        "# Plot Canopy Top Elevation\n",
        "rhVis = hv.Scatter((transectDF['Shot Index'], transectDF['Canopy Elevation (m)']), label='Canopy Top Elevation')\n",
        "rhVis = rhVis.opts(color='darkgreen', height=500, width=900, fontsize={'xlabel': 16, 'ylabel': 16}, size=2)\n"
      ]
    },
    {
      "cell_type": "code",
      "execution_count": null,
      "metadata": {
        "id": "6e3_VO44TaiH"
      },
      "outputs": [],
      "source": [
        "# Combine all three scatterplots with improved axis limits\n",
        "combined_plot = (demVis * zVis * rhVis).opts(\n",
        "    show_legend=True,\n",
        "    legend_position='top_left',\n",
        "    fontsize={'title': 14, 'xlabel': 16, 'ylabel': 16},\n",
        "    title=f'{beamNames[0]} Full Transect: {L2B.split(\"_\")[0]}',\n",
        "    ylim=(0, 1350),  # Set elevation range\n",
        "    xlim=(transectDF['Shot Index'].min()*0.5, transectDF['Shot Index'].max()*1.1),  # Adjust x-axis to remove excessive gaps\n",
        "    xticks=10,  # Adjust number of x-axis ticks for better readability\n",
        "    yticks=10,  # Adjust y-axis ticks\n",
        "    tools=['hover'],  # Enable hover for better exploration\n",
        "    responsive=True\n",
        ")\n",
        "\n",
        "combined_plot"
      ]
    },
    {
      "cell_type": "markdown",
      "metadata": {
        "id": "qx6uXF7HTaiH"
      },
      "source": [
        "The plot still looks a bit messy this far zoomed out--feel free to pan, zoom, and explore different areas of the plot."
      ]
    },
    {
      "cell_type": "markdown",
      "source": [
        "#### 🧐 Questions to Think About:\n",
        "- How does the **Tandem-X DEM** compare to the **GEDI-derived elevation**? What could explain any differences?  \n",
        "- What does the **Canopy Top Elevation** represent, and how is it different from the other two variables?  \n",
        "- Where in the transect do you see the highest canopy elevations? What could explain these peaks?  \n",
        "- Do you notice areas where the Tandem-X DEM and GEDI-derived elevation diverge significantly? What might cause this discrepancy?  \n",
        "- Are there sections where canopy height is consistently low or missing? What could this indicate about the landscape?  \n",
        "- Looking at the x-axis, do you see any changes in terrain? Can you hypothesize what type of environment this transect might pass through (e.g., dense forest, open land, mountains)?  \n",
        "- The plot is \"messy\" - what do you think causes this?  \n",
        "- What role might terrain slope, dense vegetation, or surface water play in affecting these elevation measurements?  \n",
        "- Could there be errors in the data? If so, how would you detect and correct them?  \n",
        "- How might cloud cover or atmospheric conditions impact GEDI’s elevation and canopy height estimates?\n",
        "- If you analyzed a different GEDI beam, how might this graph look different?  \n",
        "- How do you expect elevation and canopy height patterns to change in a tropical rainforest compared to an open woodland?  \n",
        "- If you were to analyze multiple transects, what trends would you look for to study forest structure on a larger scale?  \n"
      ],
      "metadata": {
        "id": "R_IWNIYRp7L9"
      }
    },
    {
      "cell_type": "markdown",
      "metadata": {
        "id": "8SE8sBXoTaiH"
      },
      "source": [
        "## 5.3 Subset Beam Transects"
      ]
    },
    {
      "cell_type": "markdown",
      "metadata": {
        "id": "GNaYT6-zTaiH"
      },
      "source": [
        "Now, subset down to a smaller transect centered on the shot analyzed in the sections above.\n",
        "\n",
        "First let's check out the indeces:"
      ]
    },
    {
      "cell_type": "code",
      "execution_count": null,
      "metadata": {
        "id": "vkiNtzJLTaiH"
      },
      "outputs": [],
      "source": [
        "index1"
      ]
    },
    {
      "cell_type": "code",
      "source": [
        "index2"
      ],
      "metadata": {
        "id": "Mh3hsEP1xiws"
      },
      "execution_count": null,
      "outputs": []
    },
    {
      "cell_type": "markdown",
      "source": [
        "Below, we display the dataset to verify the available shot indices and their structure."
      ],
      "metadata": {
        "id": "YutxQ8rRxr2o"
      }
    },
    {
      "cell_type": "code",
      "execution_count": null,
      "metadata": {
        "id": "FYrPzMUOd3tU"
      },
      "outputs": [],
      "source": [
        "transectDF"
      ]
    },
    {
      "cell_type": "markdown",
      "source": [
        "We now extract a smaller transect around the selected shot indices.  \n",
        "To ensure consistency in indexing, we first determine the closest valid row positions in the dataset."
      ],
      "metadata": {
        "id": "2a3zlLRfxw2z"
      }
    },
    {
      "cell_type": "code",
      "execution_count": null,
      "metadata": {
        "id": "7oz5DcNFTaiH"
      },
      "outputs": [],
      "source": [
        "# Ensure index is sorted before searching\n",
        "sorted_index = np.sort(transectDF.index.values)\n",
        "\n",
        "# Find the closest valid index positions\n",
        "index1_pos = np.searchsorted(sorted_index, index1, side=\"left\")\n",
        "index2_pos = np.searchsorted(sorted_index, index2, side=\"left\")\n",
        "\n",
        "# Ensure the positions remain within valid bounds\n",
        "index1_pos = min(max(0, index1_pos), len(transectDF) - 1)\n",
        "index2_pos = min(max(0, index2_pos), len(transectDF) - 1)\n",
        "\n",
        "# Print positions for verification\n",
        "print(f\"index1_pos: {index1_pos}, index2_pos: {index2_pos}\")"
      ]
    },
    {
      "cell_type": "markdown",
      "source": [
        "To extract a subset of the transect, we select 50 points before and 50 points after the central shot."
      ],
      "metadata": {
        "id": "MzX0YfR_x6uj"
      }
    },
    {
      "cell_type": "code",
      "execution_count": null,
      "metadata": {
        "id": "vL-_R3-FTaiI"
      },
      "outputs": [],
      "source": [
        "# Define subset ranges\n",
        "start1 = max(0, index1_pos - 50)\n",
        "end1 = min(len(transectDF), index1_pos + 50)\n",
        "transectDF1 = transectDF.iloc[start1:end1]\n",
        "\n",
        "start2 = max(0, index2_pos - 50)\n",
        "end2 = min(len(transectDF), index2_pos + 50)\n",
        "transectDF2 = transectDF.iloc[start2:end2]\n",
        "\n",
        "# Print subset lengths for validation\n",
        "print(f\"Length of transectDF1: {len(transectDF1)}\")\n",
        "print(f\"Length of transectDF2: {len(transectDF2)}\")\n"
      ]
    },
    {
      "cell_type": "markdown",
      "source": [
        "Below, we display the extracted transects to verify the selection."
      ],
      "metadata": {
        "id": "8ymvW6ftyG1_"
      }
    },
    {
      "cell_type": "code",
      "source": [
        "# Display the extracted transects\n",
        "transectDF1, transectDF2\n"
      ],
      "metadata": {
        "id": "MuVmKqwSyIAi"
      },
      "execution_count": null,
      "outputs": []
    },
    {
      "cell_type": "markdown",
      "metadata": {
        "id": "FjVqJktQTaiI"
      },
      "source": [
        "# 6. Plot Profile Transects <a id=\"plottransects\"></a>  \n",
        "\n",
        "In this section, we will **visualize a subset of the beam transect**, focusing on key forest structure metrics.\n",
        "\n",
        "### What You Will Learn:  \n",
        "- How to **plot a profile transect** using:  \n",
        "  - **Elevation** (terrain height)  \n",
        "  - **Canopy height** (GEDI-derived RH100)  \n",
        "  - **Plant Area Volume Density (PAVD)** (vertical vegetation structure)  \n",
        "\n",
        "### Why This Matters  \n",
        "Profile transects help us understand:  \n",
        "- How **terrain elevation** varies along a GEDI beam path.  \n",
        "- How **canopy height** changes across different landscape features.  \n",
        "- How **plant volume is distributed** at different heights within the forest.  \n",
        "\n",
        "By visualizing these metrics together, we gain insights into **forest structure at a landscape scale**.\n"
      ]
    },
    {
      "cell_type": "markdown",
      "metadata": {
        "id": "FR8ps_Y4TaiI"
      },
      "source": [
        "In order to get an idea of the length of the beam transect that you are plotting, you can plot the x-axis as distance, which is calculated below."
      ]
    },
    {
      "cell_type": "code",
      "execution_count": null,
      "metadata": {
        "id": "jjQOr1L2TaiI"
      },
      "outputs": [],
      "source": [
        "# Calculate along-track distance for each shot\n",
        "distance1 = np.arange(0.0, len(transectDF1.index) * 60, 60)  # GEDI Shots are spaced 60 m apart\n",
        "transectDF1['Distance'] = distance1                          # Add Distance as a new column in the dataframe\n",
        "\n",
        "distance2 = np.arange(0.0, len(transectDF2.index) * 60, 60)  # GEDI Shots are spaced 60 m apart\n",
        "transectDF2['Distance'] = distance2                          # Add Distance as a new column in the dataframe"
      ]
    },
    {
      "cell_type": "markdown",
      "metadata": {
        "id": "jXfa86meTaiI"
      },
      "source": [
        "## 6.1 Plot PAVD Transects"
      ]
    },
    {
      "cell_type": "markdown",
      "metadata": {
        "id": "Ac-SA_IvTaiI"
      },
      "source": [
        "Similar to what was done with PAVD in the sections above, reformat PAVD into a list of tuples containing each PAVD value and height by shot."
      ]
    },
    {
      "cell_type": "code",
      "execution_count": null,
      "metadata": {
        "id": "4o7uelEZTaiI"
      },
      "outputs": [],
      "source": [
        "pavdAll1 = []\n",
        "for j, s in enumerate(transectDF1.index):\n",
        "    pavdShot1 = transectDF1['Plant Area Volume Density'][s]\n",
        "    elevShot1 = transectDF1['Elevation (m)'][s]\n",
        "    pavdElev1 = []\n",
        "\n",
        "    # Remove fill values\n",
        "    if np.isnan(pavdShot1).all():\n",
        "        continue\n",
        "    else:\n",
        "        del pavdShot1[0]\n",
        "    for i, e in enumerate(range(len(pavdShot1))):\n",
        "        if pavdShot1[i] > 0:\n",
        "            pavdElev1.append((distance1[j], elevShot1 + dz * i, pavdShot1[i]))  # Append tuple of distance, elevation, and PAVD\n",
        "    pavdAll1.append(pavdElev1)                                                # Append to final list\n",
        "\n",
        "\n",
        "pavdAll2 = []\n",
        "for j, s in enumerate(transectDF2.index):\n",
        "    pavdShot2 = transectDF2['Plant Area Volume Density'][s]\n",
        "    elevShot2 = transectDF2['Elevation (m)'][s]\n",
        "    pavdElev2 = []\n",
        "\n",
        "    # Remove fill values\n",
        "    if np.isnan(pavdShot2).all():\n",
        "        continue\n",
        "    else:\n",
        "        del pavdShot2[0]\n",
        "    for i, e in enumerate(range(len(pavdShot2))):\n",
        "        if pavdShot2[i] > 0:\n",
        "            pavdElev2.append((distance2[j], elevShot2 + dz * i, pavdShot2[i]))  # Append tuple of distance, elevation, and PAVD\n",
        "    pavdAll2.append(pavdElev2)                                                # Append to final list"
      ]
    },
    {
      "cell_type": "code",
      "execution_count": null,
      "metadata": {
        "id": "NuP8aKCxSKxz",
        "collapsed": true
      },
      "outputs": [],
      "source": [
        "pavdAll1"
      ]
    },
    {
      "cell_type": "code",
      "execution_count": null,
      "metadata": {
        "id": "mHWcbdYtSKx0"
      },
      "outputs": [],
      "source": [
        "pavdAll2"
      ]
    },
    {
      "cell_type": "code",
      "execution_count": null,
      "metadata": {
        "id": "8HspU6h3TaiI",
        "scrolled": true
      },
      "outputs": [],
      "source": [
        "canopyElevation1 = [p[-1][1] for p in pavdAll1 if p]  # Only use non-empty lists\n",
        "\n",
        "canopyElevation2 = [p[-1][1] for p in pavdAll2 if p]\n"
      ]
    },
    {
      "cell_type": "code",
      "execution_count": null,
      "metadata": {
        "id": "V8TJexdWSKx1"
      },
      "outputs": [],
      "source": [
        "print(\"pavdAll1 structure:\", type(pavdAll1), \"Length:\", len(pavdAll1))\n",
        "print(\"Example entry in pavdAll1:\", pavdAll1[0] if pavdAll1 else \"Empty\")\n",
        "\n",
        "print(\"pavdAll2 structure:\", type(pavdAll2), \"Length:\", len(pavdAll2))\n",
        "print(\"Example entry in pavdAll2:\", pavdAll2[0] if pavdAll2 else \"Empty\")\n"
      ]
    },
    {
      "cell_type": "markdown",
      "metadata": {
        "id": "weBovIY4TaiI"
      },
      "source": [
        "Below, plot each shot by using `holoviews` Path() function, with the PAVD plotted in the third dimension in shades of green."
      ]
    },
    {
      "cell_type": "code",
      "execution_count": null,
      "metadata": {
        "id": "T1SNfNyXSKx1"
      },
      "outputs": [],
      "source": [
        "# Remove empty sublists\n",
        "pavdAll1 = [sublist for sublist in pavdAll1 if sublist]\n",
        "pavdAll2 = [sublist for sublist in pavdAll2 if sublist]\n",
        "\n",
        "# Convert to NumPy arrays for consistency\n",
        "pavdAll1 = [np.array(sublist) for sublist in pavdAll1]\n",
        "pavdAll2 = [np.array(sublist) for sublist in pavdAll2]\n"
      ]
    },
    {
      "cell_type": "code",
      "execution_count": null,
      "metadata": {
        "id": "bGCnzW5VTaiI"
      },
      "outputs": [],
      "source": [
        "# Be careful to change the shot numbers if necessary\n",
        "path1 = hv.Path(pavdAll1, vdims='PAVD').options(color='PAVD', clim=(0,0.3), cmap='Greens', line_width=8, colorbar=True,\n",
        "                                               width=950, height=500, ylim=(min(transectDF1['Elevation (m)']) - 5, max(canopyElevation1) + 5), clabel='PAVD', xlabel='Distance Along Transect (m) - 226260800100074501',\n",
        "                                               ylabel='Elevation (m)', fontsize={'title':16, 'xlabel':16, 'ylabel': 16,\n",
        "                                                                                 'xticks':12, 'yticks':12,\n",
        "                                                                                 'clabel':12, 'cticks':10})\n",
        "\n",
        "path2 = hv.Path(pavdAll2, vdims='PAVD').options(color='PAVD', clim=(0,0.3), cmap='Greens', line_width=8, colorbar=True,\n",
        "                                                  width=950, height=500, ylim=(min(transectDF1['Elevation (m)']) - 5, max(canopyElevation1) + 5), clabel='PAVD', xlabel='Distance Along Transect (m) - 226260800100074101',\n",
        "                                                  ylabel='Elevation (m)', fontsize={'title':16, 'xlabel':16, 'ylabel': 16,\n",
        "                                                                                    'xticks':12, 'yticks':12,\n",
        "                                                                                    'clabel':12, 'cticks':10})\n",
        "\n",
        "\n",
        "\n",
        "# Display them separately instead of forcing alignment\n",
        "hv.Layout([path1, path2]).opts(shared_axes=False)\n"
      ]
    },
    {
      "cell_type": "markdown",
      "metadata": {
        "id": "032NUuc1TaiI"
      },
      "source": [
        "Add in the ground elevation and canopy top elevation for better context as to where in the canopy the highest PAVD exists."
      ]
    },
    {
      "cell_type": "code",
      "execution_count": null,
      "metadata": {
        "id": "AqsFtjrXTaiI"
      },
      "outputs": [],
      "source": [
        "path1_2 = hv.Curve((distance1, transectDF1['Elevation (m)']), label='Ground Elevation').options(color='black', line_width=2)\n",
        "path2_2 = hv.Curve((distance2, transectDF2['Elevation (m)']), label='Ground Elevation').options(color='black', line_width=2)\n",
        "\n",
        "path1_3 = hv.Curve((distance1, canopyElevation1), label='Canopy Top Elevation').options(color='grey', line_width=1.5)\n",
        "path2_3 = hv.Curve((distance2, canopyElevation2), label='Canopy Top Elevation').options(color='grey', line_width=1.5)"
      ]
    },
    {
      "cell_type": "code",
      "execution_count": null,
      "metadata": {
        "id": "W_WMGxQQTaiJ"
      },
      "outputs": [],
      "source": [
        "# Plot all three together\n",
        "# Be careful to change the shot numbers if necessary\n",
        "path1 = path1 * path1_2 * path1_3\n",
        "path1.opts(height=500,width=980, ylim=(min(transectDF1['Elevation (m)']) - 5, max(canopyElevation1) + 5),\n",
        "          xlabel='Distance Along Transect (m) - 226260800100074501', ylabel='Elevation (m)', legend_position='bottom_right',\n",
        "          fontsize={'title':15, 'xlabel':15, 'ylabel': 15, 'xticks': 14, 'yticks': 14, 'legend': 14},\n",
        "          title=f'GEDI L2B {beamNames[0]} PAVD over Queensland, Australia in 2022')\n",
        "\n",
        "path2 = path2 * path2_2 * path2_3\n",
        "path2.opts(height=500,width=980, ylim=(min(transectDF1['Elevation (m)']) - 5, max(canopyElevation1) + 5),\n",
        "          xlabel='Distance Along Transect (m) - 226260800100074101', ylabel='Elevation (m)', legend_position='bottom_right',\n",
        "          fontsize={'title':15, 'xlabel':15, 'ylabel': 15, 'xticks': 14, 'yticks': 14, 'legend': 14},\n",
        "          title=f'GEDI L2B {beamNames[0]} PAVD over Queensland, Australia in 2022')\n",
        "\n",
        "# Display them separately instead of forcing alignment\n",
        "hv.Layout([path1, path2]).opts(shared_axes=False)"
      ]
    },
    {
      "cell_type": "code",
      "execution_count": null,
      "metadata": {
        "id": "92wT99F-TaiJ"
      },
      "outputs": [],
      "source": [
        "#save graph\n",
        "hv.save(path1, 'DATA/GEDI_L2B_PAVD_1.html')\n",
        "hv.save(path1, 'DATA/GEDI_L2B_PAVD_2.html')"
      ]
    },
    {
      "cell_type": "markdown",
      "metadata": {
        "id": "blkFiyQmTaiJ"
      },
      "source": [
        "Above, you can get an idea about the terrain over the region of interest. In terms of vegetation structure, this plot does a good job of showing not only which portions of the canopy are taller, but also where they are denser (darker shades of green)."
      ]
    },
    {
      "cell_type": "markdown",
      "source": [
        "#### 🧐 Questions to Think About:\n",
        "\n",
        "- What do the different lines and color intensities represent in this plot?\n",
        "- How does setting the same y-axis for both plots improve the comparison between the two transects?\n",
        "- What are the key differences between the left and right plots? What might be causing these differences?\n",
        "- How does the difference between ground elevation and canopy top elevation inform us about the vegetation structure in a given area?\n",
        "- Where do you observe the largest difference between these two lines? What might that indicate?\n",
        "- How does the topography influence canopy height? Do you see patterns where forested areas follow terrain contours?\n",
        "- How does the distribution of PAVD align with canopy height and terrain changes?\n",
        "- Are there any regions where PAVD is high, but canopy height is low? What might cause this?\n",
        "- In which areas do you see more variation in PAVD, and how does this relate to different forest types?\n",
        "- What landscape or ecological factors might explain the differences observed between these two transects?\n",
        "- How might these results differ in different ecosystems, such as a tropical rainforest versus a savanna?\n",
        "- How can this type of visualization be used in forest monitoring and conservation planning?\n",
        "- How could changes in these plots over time help detect forest degradation, regrowth, or land-use changes?\n",
        "\n",
        "\n"
      ],
      "metadata": {
        "id": "Ai6V5tgNdFIB"
      }
    },
    {
      "cell_type": "markdown",
      "metadata": {
        "id": "PxqhIXKvTaiJ"
      },
      "source": [
        "At this point, you have visualized the **elevation, canopy height, and vertical structure** of specific GEDI footprints over the **QPRP plots in Queensland, Australia**.  \n",
        "\n",
        "Additionally, you have explored a **transect cutting through the region**, helping to understand variations in forest structure along a single GEDI beam path.  \n",
        "\n",
        "What’s Next?  \n",
        "In **Section 7**, you will expand this analysis by:  \n",
        "- **Mapping all high-quality shots** from **all eight GEDI beams**.  \n",
        "- **Analyzing the spatial distribution** of canopy characteristics over the QPRP plots.  \n",
        "\n",
        "This will provide a **broader regional perspective** on canopy height and structure across the study area.\n"
      ]
    },
    {
      "cell_type": "markdown",
      "metadata": {
        "id": "eg9vNsgFTaiJ"
      },
      "source": [
        "# 7. Spatial Visualization <a id=\"spatialvisualization\"></a>  \n",
        "\n",
        "In this section, we will apply multiple techniques learned throughout the tutorial to create a **spatial visualization of GEDI data**.\n",
        "\n",
        "By mapping **all high-quality shots** from **all eight GEDI beams**, we can analyze **canopy characteristics at a landscape scale** over the QPRP plots.\n"
      ]
    },
    {
      "cell_type": "markdown",
      "metadata": {
        "id": "UIlUu7DSTaiJ"
      },
      "source": [
        "## 7.1 Import, Subset, and Quality Filter All Beams"
      ]
    },
    {
      "cell_type": "markdown",
      "metadata": {
        "id": "NzEVQprUTaiJ"
      },
      "source": [
        "Below, re-open the GEDI L2B observation--but this time, loop through and import data for all 8 of the GEDI beams."
      ]
    },
    {
      "cell_type": "code",
      "execution_count": null,
      "metadata": {
        "id": "boDoafC4TaiJ"
      },
      "outputs": [],
      "source": [
        "beamNames = [g for g in gediL2B.keys() if g.startswith('BEAM')]"
      ]
    },
    {
      "cell_type": "code",
      "execution_count": null,
      "metadata": {
        "id": "vmKkhCsjTaiJ"
      },
      "outputs": [],
      "source": [
        "beamNames"
      ]
    },
    {
      "cell_type": "markdown",
      "metadata": {
        "id": "_Vg8LpMETaiJ"
      },
      "source": [
        "Loop through each of the desired datasets (SDS) for each beam, append to lists, and transform into a `pandas` DataFrame."
      ]
    },
    {
      "cell_type": "code",
      "execution_count": null,
      "metadata": {
        "id": "OiUK7syZTaiJ"
      },
      "outputs": [],
      "source": [
        "# Set up lists to store data\n",
        "shotNum, dem, zElevation, zHigh, zLat, zLon, canopyHeight, quality, degrade, sensitivity, pai, beamI, selectedAlgorithmL2A = ([] for i in range(13))"
      ]
    },
    {
      "cell_type": "code",
      "execution_count": null,
      "metadata": {
        "id": "ozrQkGFuTaiJ"
      },
      "outputs": [],
      "source": [
        "# Loop through each beam and open the SDS needed\n",
        "for b in beamNames:\n",
        "    [shotNum.append(h) for h in gediL2B[[g for g in gediSDS if g.endswith('/shot_number') and b in g][0]][()]]\n",
        "    [dem.append(h) for h in gediL2B[[g for g in gediSDS if g.endswith('/digital_elevation_model') and b in g][0]][()]]\n",
        "    [zElevation.append(h) for h in gediL2B[[g for g in gediSDS if g.endswith('/elev_lowestmode') and b in g][0]][()]]\n",
        "    [zHigh.append(h) for h in gediL2B[[g for g in gediSDS if g.endswith('/elev_highestreturn') and b in g][0]][()]]\n",
        "    [zLat.append(h) for h in gediL2B[[g for g in gediSDS if g.endswith('/lat_lowestmode') and b in g][0]][()]]\n",
        "    [zLon.append(h) for h in gediL2B[[g for g in gediSDS if g.endswith('/lon_lowestmode') and b in g][0]][()]]\n",
        "    [canopyHeight.append(h) for h in gediL2B[[g for g in gediSDS if g.endswith('/rh100') and b in g][0]][()]]\n",
        "    [quality.append(h) for h in gediL2B[[g for g in gediSDS if g.endswith('/l2b_quality_flag') and b in g][0]][()]]\n",
        "    [degrade.append(h) for h in gediL2B[[g for g in gediSDS if g.endswith('/degrade_flag') and b in g][0]][()]]\n",
        "    [sensitivity.append(h) for h in gediL2B[[g for g in gediSDS if g.endswith('/sensitivity') and b in g][0]][()]]\n",
        "    [beamI.append(h) for h in [b] * len(gediL2B[[g for g in gediSDS if g.endswith('/shot_number') and b in g][0]][()])]\n",
        "    [selectedAlgorithmL2A.append(h) for h in gediL2B[[g for g in gediSDS if g.endswith('/selected_l2a_algorithm') and b in g][0]][()]]\n",
        "    [pai.append(h) for h in gediL2B[f'{b}/pai'][()]]"
      ]
    },
    {
      "cell_type": "code",
      "execution_count": null,
      "metadata": {
        "id": "JFHy9NCeTaiJ"
      },
      "outputs": [],
      "source": [
        "# Convert lists to Pandas dataframe\n",
        "allDF = pd.DataFrame({\n",
        "    'Shot Number': shotNum,\n",
        "    'Beam': beamI,\n",
        "    'Latitude': zLat,\n",
        "    'Longitude': zLon,\n",
        "    'Tandem-X DEM': dem,\n",
        "    'Elevation (m)': zElevation,\n",
        "    'Canopy Elevation (m)': zHigh,\n",
        "    'Canopy Height (rh100)': canopyHeight,\n",
        "    'Quality Flag': quality,\n",
        "    'Plant Area Index': pai,\n",
        "    'Degrade Flag': degrade,\n",
        "    'Sensitivity': sensitivity,\n",
        "    'Selected L2A Algorithm': selectedAlgorithmL2A\n",
        "    })"
      ]
    },
    {
      "cell_type": "markdown",
      "metadata": {
        "id": "Q-_oeDXeTaiJ"
      },
      "source": [
        "## 7.2 Spatial Subsetting\n"
      ]
    },
    {
      "cell_type": "code",
      "execution_count": null,
      "metadata": {
        "id": "UkbGUJxVTaiJ"
      },
      "outputs": [],
      "source": [
        "len(allDF)"
      ]
    },
    {
      "cell_type": "markdown",
      "metadata": {
        "id": "fcvLKinGTaiK"
      },
      "source": [
        "More than 800,000 shots are contained in this single GEDI sub-orbit granule!\n",
        "\n",
        "Below subset down to only the shots falling within a small bounding box encompassing the **Queensland Permanent Rainforest Plots (QPRP) network**. `QPRP-plots`, our `geopandas` geodataframe, can be called for the \"total_bounds\" or smallest bounding box encompassing the entire region of interest. Here, use that as the bounding box for subsetting the GEDI shots."
      ]
    },
    {
      "cell_type": "markdown",
      "source": [
        "Import a GeoJSON of the QPRP network area as GeoDataFrames."
      ],
      "metadata": {
        "id": "7BgL-6WUkBDz"
      }
    },
    {
      "cell_type": "code",
      "source": [
        "import geopandas as gpd\n",
        "QPRP = gpd.read_file('DATA/QPRP-plots.geojson')"
      ],
      "metadata": {
        "id": "-JunqVUlkIcw"
      },
      "execution_count": null,
      "outputs": []
    },
    {
      "cell_type": "code",
      "execution_count": null,
      "metadata": {
        "id": "_3zaQhXvTaiK"
      },
      "outputs": [],
      "source": [
        "QPRP.total_bounds"
      ]
    },
    {
      "cell_type": "code",
      "execution_count": null,
      "metadata": {
        "id": "hAL7gQj5TaiK"
      },
      "outputs": [],
      "source": [
        "minLon, minLat, maxLon, maxLat = QPRP.total_bounds  # Define the min/max lat/lon from the bounds of Queensland"
      ]
    },
    {
      "cell_type": "code",
      "source": [
        "minLon, minLat, maxLon, maxLat"
      ],
      "metadata": {
        "id": "Y9nTT2H-akPy"
      },
      "execution_count": null,
      "outputs": []
    },
    {
      "cell_type": "markdown",
      "metadata": {
        "id": "irtOVzgSTaiK"
      },
      "source": [
        "Filter by the bounding box, which is done similarly to filtering by quality in section 6.1 above."
      ]
    },
    {
      "cell_type": "code",
      "execution_count": null,
      "metadata": {
        "id": "ZVdCGWrzTaiK"
      },
      "outputs": [],
      "source": [
        "allDF = allDF.where(allDF['Latitude'] > minLat)\n",
        "allDF = allDF.where(allDF['Latitude'] < maxLat)\n",
        "allDF = allDF.where(allDF['Longitude'] > minLon)\n",
        "allDF = allDF.where(allDF['Longitude'] < maxLon)"
      ]
    },
    {
      "cell_type": "code",
      "execution_count": null,
      "metadata": {
        "id": "luLMKzI9TaiK"
      },
      "outputs": [],
      "source": [
        "allDF = allDF.dropna()  # Drop shots outside of the ROI"
      ]
    },
    {
      "cell_type": "code",
      "execution_count": null,
      "metadata": {
        "id": "BAZvJWb-TaiK"
      },
      "outputs": [],
      "source": [
        "len(allDF)"
      ]
    },
    {
      "cell_type": "markdown",
      "metadata": {
        "id": "kGGJhpF2TaiK"
      },
      "source": [
        "Notice you have drastically reduced the number of shots you are working with (which will greatly enhance your experience in plotting them below). But first, remove any poor quality shots that exist within the ROI."
      ]
    },
    {
      "cell_type": "code",
      "execution_count": null,
      "metadata": {
        "id": "B6GAEoZETaiK"
      },
      "outputs": [],
      "source": [
        "# Set any poor quality returns to NaN\n",
        "allDF = allDF.where(allDF['Quality Flag'].ne(0))\n",
        "allDF = allDF.where(allDF['Degrade Flag'] < 1)\n",
        "allDF = allDF.where(allDF['Sensitivity'] > 0.95)\n",
        "allDF = allDF.dropna()\n",
        "len(allDF)"
      ]
    },
    {
      "cell_type": "markdown",
      "metadata": {
        "id": "Op50DZoDTaiK"
      },
      "source": [
        "Down to less than 10000 shots, next create a `Shapely` Point out of each shot and insert it as the geometry column in the [soon to be geo] dataframe."
      ]
    },
    {
      "cell_type": "code",
      "execution_count": null,
      "metadata": {
        "id": "c0hQLPxZTaiK"
      },
      "outputs": [],
      "source": [
        "# Take the lat/lon dataframe and convert each lat/lon to a shapely point\n",
        "allDF['geometry'] = allDF.apply(lambda row: Point(row.Longitude, row.Latitude), axis=1)"
      ]
    },
    {
      "cell_type": "code",
      "execution_count": null,
      "metadata": {
        "id": "tSpWCFvsTaiK"
      },
      "outputs": [],
      "source": [
        "# Convert to geodataframe\n",
        "allDF = gp.GeoDataFrame(allDF)\n",
        "allDF = allDF.drop(columns=['Latitude','Longitude'])"
      ]
    },
    {
      "cell_type": "markdown",
      "metadata": {
        "id": "kMy3TzIvTaiK"
      },
      "source": [
        "## 7.3 Visualize All Beams: Canopy Height, Elevation, and PAI"
      ]
    },
    {
      "cell_type": "markdown",
      "metadata": {
        "id": "GmSoj2X9TaiL"
      },
      "source": [
        "Now, let's plot the `geopandas` GeoDataFrame using `leafmap`."
      ]
    },
    {
      "cell_type": "code",
      "execution_count": null,
      "metadata": {
        "id": "00Va_W7wTaiL"
      },
      "outputs": [],
      "source": [
        "m = leafmap.Map(center = center_coords, zoom = 7)\n",
        "m.add_basemap('HYBRID')\n",
        "m.add_gdf(QPRP, layer_name=\"QPRP-network\", style={'fillColor': 'yellow', 'color': 'yellow', 'fillOpacity': 0.5})\n",
        "m.add_markers(allDF, shape=\"circle\", radius=2, color=\"red\", fill_color=\"red\", popup=[\"geometry\", \"Beam\", \"Shot Number\", \"Quality Flag\"])\n",
        "m.add_markers(plots_gdf, shape=\"circle\", radius=4, color=\"blue\", fill_color=\"blue\", popup=[\"plot_name\"])\n",
        "m"
      ]
    },
    {
      "cell_type": "markdown",
      "source": [
        "By zooming in, you can visualize the 8 beams passing throught the region of interest, **QPRP**."
      ],
      "metadata": {
        "id": "GMbWrGP2nLb7"
      }
    },
    {
      "cell_type": "markdown",
      "metadata": {
        "id": "mgYtMfnaTaiL"
      },
      "source": [
        "Now let's not only plot the points in the geodataframe but also add a colormap for **Canopy Height (m)**, **Elevation (m)**, and **Plant Area Index (PAI)**.\n",
        "\n",
        "Watch out!!! Do not run the below cell twice! As the allDF['Canopy Height (rh100)'] will be divided by 100 again."
      ]
    },
    {
      "cell_type": "code",
      "execution_count": null,
      "metadata": {
        "id": "V7R23cSCTaiL",
        "scrolled": true
      },
      "outputs": [],
      "source": [
        "allDF['Canopy Height (rh100)'] = allDF['Canopy Height (rh100)'] / 100 # Convert canopy height from cm to m\n",
        "#Watch out: do not run this cell twice! As the allDF['Canopy Height (rh100)'] will be divided by 100 again."
      ]
    },
    {
      "cell_type": "markdown",
      "source": [
        "First, let's visualize the `Canopy Height (m)` of the ROI."
      ],
      "metadata": {
        "id": "7OV7ckNzowTv"
      }
    },
    {
      "cell_type": "code",
      "execution_count": null,
      "metadata": {
        "id": "HGDXynMKTaiL"
      },
      "outputs": [],
      "source": [
        "m = leafmap.Map(center = center_coords, zoom = 7)\n",
        "m.add_basemap('HYBRID')\n",
        "m.add_gdf(QPRP, layer_name=\"QPRP-network\", style={'fillColor': 'yellow', 'color': 'yellow', 'fillOpacity': 0.2})\n",
        "m.add_markers(plots_gdf, shape=\"circle\", radius=4, color=\"blue\", fill_color=\"blue\", popup=[\"plot_name\"])\n",
        "m.add_data(allDF, column=\"Canopy Height (rh100)\", cmap=\"plasma\", marker_radius=2, layer_name=\"Canopy Height (rh100)\")\n",
        "m"
      ]
    },
    {
      "cell_type": "markdown",
      "metadata": {
        "id": "-i_xKAwTTaiL"
      },
      "source": [
        "Next, take a look at the GEDI-derived elevation over the shots. Notice below that the colormap is changed to `terrain`."
      ]
    },
    {
      "cell_type": "code",
      "execution_count": null,
      "metadata": {
        "id": "s5S5170sTaiL"
      },
      "outputs": [],
      "source": [
        "m = leafmap.Map(center = center_coords, zoom = 7)\n",
        "m.add_basemap('HYBRID')\n",
        "m.add_gdf(QLD, layer_name=\"QPRP-CSIRO\", style={'fillColor': 'yellow', 'color': 'yellow', 'fillOpacity': 0.2})\n",
        "m.add_markers(plots_gdf, shape=\"circle\", radius=4, color=\"blue\", fill_color=\"blue\", popup=[\"plot_name\"])\n",
        "m.add_data(allDF, column=\"Elevation (m)\", cmap=\"terrain\", marker_radius=2, layer_name=\"GEDI Elevation\")\n",
        "m"
      ]
    },
    {
      "cell_type": "markdown",
      "metadata": {
        "id": "mwI3TTHVTaiL"
      },
      "source": [
        "Last but certainly not least, `Plant Area Index`:"
      ]
    },
    {
      "cell_type": "code",
      "execution_count": null,
      "metadata": {
        "id": "PNK07iWhTaiL"
      },
      "outputs": [],
      "source": [
        "m = leafmap.Map(center = center_coords, zoom = 7)\n",
        "m.add_basemap('HYBRID')\n",
        "m.add_gdf(QPRP, layer_name=\"QPRP-network\", style={'fillColor': 'yellow', 'color': 'yellow', 'fillOpacity': 0.2})\n",
        "m.add_markers(plots_gdf, shape=\"circle\", radius=4, color=\"blue\", fill_color=\"blue\", popup=[\"plot_name\"])\n",
        "m.add_data(allDF, column=\"Plant Area Index\", cmap=\"Greens\", marker_radius=2, layer_name=\"GEDI PAI over Queensland\")\n",
        "m"
      ]
    },
    {
      "cell_type": "markdown",
      "source": [
        "###🧐 Questions to Think About:\n",
        "\n",
        "- Do you notice any correlations between canopy height and elevation? What landscapes show the highest canopy heights?\n",
        "- What variations in Plant Area Index (PAI) do you see along the transect? How might this relate to forest density?\n",
        "- Are there regions where canopy height is low, but PAI is high? What could explain this?\n",
        "- How could these maps help in identifying areas of deforestation or forest degradation?\n",
        "- How could this data be integrated into forest conservation or carbon storage assessments?\n",
        "- What are some potential errors or uncertainties in the GEDI data? How might atmospheric conditions or terrain features affect accuracy?\n",
        "- If you had access to higher-resolution airborne LiDAR, how might it improve upon GEDI’s spatial coverage and detail?\n",
        "- How can the QPRP plots be integrated with the GEDI data later on? For example, how field plots can be used to calibrate GEDI biomass models, or as validation data for wall-to-wall GEDI-maps (by integration with Sentinel-1/2/ Landsat/...)?\n",
        "\n"
      ],
      "metadata": {
        "id": "lqNIT0622OG0"
      }
    },
    {
      "cell_type": "markdown",
      "metadata": {
        "id": "ffPr_xgdTaiL"
      },
      "source": [
        "## Success!\n",
        "You have now learned how to start working with GEDI L2B files in Python as well as some interesting strategies for visualizing those data in order to better understand your specific region of interest. Using this Jupyter Notebook as a workflow, you should now be able to switch to GEDI files over your specific region of interest and re-run the notebook. Good Luck!"
      ]
    },
    {
      "cell_type": "markdown",
      "metadata": {
        "id": "xfTDrkBPTaiM"
      },
      "source": [
        "\n",
        "## This document was based of of notebooks provided by NASA LP DAAC\n",
        "### Please find their contact info below:\n",
        "\n",
        "Email: LPDAAC@usgs.gov  \n",
        "Voice: +1-866-573-3222  \n",
        "Organization: Land Processes Distributed Active Archive Center (LP DAAC)¹  \n",
        "Website: <https://lpdaac.usgs.gov/>  \n",
        "  "
      ]
    },
    {
      "cell_type": "markdown",
      "source": [
        "## Contact info\n",
        "\n",
        "This notebook was made by Luna Soenens and Geike De Sloover for the Advanced Remote Sensing course of Ghent University.\\\n",
        "If you have any questions please feel free to contact us. Ask your question via email, teams or make a quick appointment and come ask us at Campus Coupure.\n",
        "\n",
        "Email:\n",
        "\n",
        "luna.soenens@ugent.be\\\n",
        "geike.desloover@ugent.be\n",
        "\n",
        "\n"
      ],
      "metadata": {
        "id": "rHtAvQWwxFq1"
      }
    }
  ],
  "metadata": {
    "colab": {
      "provenance": [],
      "toc_visible": true,
      "include_colab_link": true
    },
    "kernelspec": {
      "display_name": ".venv",
      "language": "python",
      "name": "python3"
    },
    "language_info": {
      "codemirror_mode": {
        "name": "ipython",
        "version": 3
      },
      "file_extension": ".py",
      "mimetype": "text/x-python",
      "name": "python",
      "nbconvert_exporter": "python",
      "pygments_lexer": "ipython3",
      "version": "3.11.4"
    }
  },
  "nbformat": 4,
  "nbformat_minor": 0
}